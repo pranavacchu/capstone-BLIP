{
  "cells": [
    {
      "cell_type": "markdown",
      "metadata": {
        "id": "header"
      },
      "source": [
        "# Video Frame Search System with BLIP & Pinecone\n",
        "\n",
        "This notebook sets up a complete video semantic search engine that:\n",
        "- Extracts frames from videos\n",
        "- Generates captions using BLIP\n",
        "- Stores embeddings in Pinecone\n",
        "- Enables natural language search\n",
        "\n",
        "---\n"
      ]
    },
    {
      "cell_type": "markdown",
      "metadata": {
        "id": "step1"
      },
      "source": [
        " ## Step 1: Setup - Clone Repository & Install Dependencies\n",
        "\n"
      ]
    },
    {
      "cell_type": "code",
      "execution_count": 1,
      "metadata": {
        "id": "setup",
        "colab": {
          "base_uri": "https://localhost:8080/"
        },
        "outputId": "6447f125-b091-42d6-abfd-ac8360f56708"
      },
      "outputs": [
        {
          "output_type": "stream",
          "name": "stdout",
          "text": [
            "Cloning into 'capstone-BLIP'...\n",
            "remote: Enumerating objects: 32, done.\u001b[K\n",
            "remote: Counting objects: 100% (32/32), done.\u001b[K\n",
            "remote: Compressing objects: 100% (24/24), done.\u001b[K\n",
            "remote: Total 32 (delta 9), reused 31 (delta 8), pack-reused 0 (from 0)\u001b[K\n",
            "Receiving objects: 100% (32/32), 55.24 KiB | 912.00 KiB/s, done.\n",
            "Resolving deltas: 100% (9/9), done.\n",
            "/content/capstone-BLIP\n",
            "📦 Installing dependencies... This will take 3-5 minutes\n",
            "\u001b[2K     \u001b[90m━━━━━━━━━━━━━━━━━━━━━━━━━━━━━━━━━━━━━━━\u001b[0m \u001b[32m163.9/163.9 kB\u001b[0m \u001b[31m6.6 MB/s\u001b[0m eta \u001b[36m0:00:00\u001b[0m\n",
            "\u001b[?25h  Preparing metadata (setup.py) ... \u001b[?25l\u001b[?25hdone\n",
            "  Preparing metadata (setup.py) ... \u001b[?25l\u001b[?25hdone\n",
            "  Preparing metadata (setup.py) ... \u001b[?25l\u001b[?25hdone\n",
            "\u001b[2K   \u001b[90m━━━━━━━━━━━━━━━━━━━━━━━━━━━━━━━━━━━━━━━━\u001b[0m \u001b[32m587.6/587.6 kB\u001b[0m \u001b[31m26.0 MB/s\u001b[0m eta \u001b[36m0:00:00\u001b[0m\n",
            "\u001b[2K   \u001b[90m━━━━━━━━━━━━━━━━━━━━━━━━━━━━━━━━━━━━━━━━\u001b[0m \u001b[32m259.3/259.3 kB\u001b[0m \u001b[31m23.4 MB/s\u001b[0m eta \u001b[36m0:00:00\u001b[0m\n",
            "\u001b[2K   \u001b[90m━━━━━━━━━━━━━━━━━━━━━━━━━━━━━━━━━━━━━━━━\u001b[0m \u001b[32m866.1/866.1 kB\u001b[0m \u001b[31m48.7 MB/s\u001b[0m eta \u001b[36m0:00:00\u001b[0m\n",
            "\u001b[2K   \u001b[90m━━━━━━━━━━━━━━━━━━━━━━━━━━━━━━━━━━━━━━━━\u001b[0m \u001b[32m149.0/149.0 kB\u001b[0m \u001b[31m13.5 MB/s\u001b[0m eta \u001b[36m0:00:00\u001b[0m\n",
            "\u001b[2K   \u001b[90m━━━━━━━━━━━━━━━━━━━━━━━━━━━━━━━━━━━━━━━━\u001b[0m \u001b[32m45.1/45.1 kB\u001b[0m \u001b[31m3.9 MB/s\u001b[0m eta \u001b[36m0:00:00\u001b[0m\n",
            "\u001b[2K   \u001b[90m━━━━━━━━━━━━━━━━━━━━━━━━━━━━━━━━━━━━━━━━\u001b[0m \u001b[32m1.3/1.3 MB\u001b[0m \u001b[31m80.1 MB/s\u001b[0m eta \u001b[36m0:00:00\u001b[0m\n",
            "\u001b[2K   \u001b[90m━━━━━━━━━━━━━━━━━━━━━━━━━━━━━━━━━━━━━━━━\u001b[0m \u001b[32m65.5/65.5 kB\u001b[0m \u001b[31m6.6 MB/s\u001b[0m eta \u001b[36m0:00:00\u001b[0m\n",
            "\u001b[?25h  Building wheel for FlagEmbedding (setup.py) ... \u001b[?25l\u001b[?25hdone\n",
            "  Building wheel for warc3-wet-clueweb09 (setup.py) ... \u001b[?25l\u001b[?25hdone\n",
            "  Building wheel for cbor (setup.py) ... \u001b[?25l\u001b[?25hdone\n",
            "\n",
            "✅ Installation complete!\n",
            "\n",
            "🚀 GPU detected: Tesla T4\n",
            "   Memory: 15.8 GB\n"
          ]
        }
      ],
      "source": [
        "# Clone the repository\n",
        "!git clone https://github.com/pranavacchu/capstone-BLIP.git\n",
        "%cd capstone-BLIP\n",
        "\n",
        "# Install dependencies\n",
        "print(\"📦 Installing dependencies... This will take 3-5 minutes\")\n",
        "!pip install -q opencv-python-headless pillow numpy pandas tqdm python-dotenv\n",
        "!pip install -q torch torchvision transformers sentence-transformers\n",
        "!pip install -q pinecone FlagEmbedding\n",
        "\n",
        "print(\"\\n✅ Installation complete!\")\n",
        "\n",
        "# Check GPU availability\n",
        "import torch\n",
        "if torch.cuda.is_available():\n",
        "    print(f\"\\n🚀 GPU detected: {torch.cuda.get_device_name(0)}\")\n",
        "    print(f\"   Memory: {torch.cuda.get_device_properties(0).total_memory / 1e9:.1f} GB\")\n",
        "else:\n",
        "    print(\"\\n⚠️ No GPU detected. Using CPU (slower but works)\")"
      ]
    },
    {
      "cell_type": "markdown",
      "metadata": {
        "id": "step2"
      },
      "source": [
        "## Step 2: Configure Pinecone API Key\n",
        "\n",
        "Enter your Pinecone credentials below:\n",
        "- **API Key**: Your Pinecone API key\n",
        "- **Index Host**: Your index URL (from Pinecone dashboard)\n",
        "\n",
        "Your current settings:\n",
        "```\n",
        "API Key: pcsk_51Fgoo_2S9NQf4CHi8LMpX7AXKv4TEHgRdXR3huZcCwBdJkr7BMvmdGHeRASrk5hkz4AH1\n",
        "Host: https://capstone-b5a0x4x.svc.aped-4627-b74a.pinecone.io\n",
        "```"
      ]
    },
    {
      "cell_type": "code",
      "execution_count": 2,
      "metadata": {
        "id": "config",
        "colab": {
          "base_uri": "https://localhost:8080/"
        },
        "outputId": "009f41fb-e8c2-40ec-b20e-45256b630b73"
      },
      "outputs": [
        {
          "output_type": "stream",
          "name": "stdout",
          "text": [
            "✅ Configuration saved!\n"
          ]
        }
      ],
      "source": [
        "import os\n",
        "\n",
        "# Set your Pinecone credentials\n",
        "PINECONE_API_KEY = \"pcsk_51Fgoo_2S9NQf4CHi8LMpX7AXKv4TEHgRdXR3huZcCwBdJkr7BMvmdGHeRASrk5hkz4AH1\"\n",
        "PINECONE_HOST = \"https://capstone-b5a0x4x.svc.aped-4627-b74a.pinecone.io\"\n",
        "PINECONE_ENVIRONMENT = \"us-east-1\"\n",
        "\n",
        "# Write to .env file\n",
        "with open('.env', 'w') as f:\n",
        "    f.write(f\"PINECONE_API_KEY={PINECONE_API_KEY}\\n\")\n",
        "    f.write(f\"PINECONE_HOST={PINECONE_HOST}\\n\")\n",
        "    f.write(f\"PINECONE_ENVIRONMENT={PINECONE_ENVIRONMENT}\\n\")\n",
        "\n",
        "print(\"✅ Configuration saved!\")"
      ]
    },
    {
      "cell_type": "markdown",
      "metadata": {
        "id": "step3"
      },
      "source": [
        "##  Step 3: Test Connection to Pinecone\n",
        "\n"
      ]
    },
    {
      "cell_type": "code",
      "execution_count": 3,
      "metadata": {
        "id": "test_connection",
        "colab": {
          "base_uri": "https://localhost:8080/"
        },
        "outputId": "c79690d2-d89b-46c3-de33-1f9ef1251a4e"
      },
      "outputs": [
        {
          "output_type": "stream",
          "name": "stdout",
          "text": [
            "🔌 Connecting to Pinecone...\n",
            "\n",
            "✅ Successfully connected to Pinecone!\n",
            "\n",
            "📊 Database Statistics:\n",
            "   Index: capstone\n",
            "   Total vectors: 2\n",
            "   Dimension: 1024\n",
            "   Capacity: Serverless\n"
          ]
        }
      ],
      "source": [
        "from video_search_engine import VideoSearchEngine\n",
        "\n",
        "print(\"🔌 Connecting to Pinecone...\")\n",
        "engine = VideoSearchEngine()\n",
        "\n",
        "# Get database stats\n",
        "stats = engine.get_index_stats()\n",
        "\n",
        "print(\"\\n✅ Successfully connected to Pinecone!\")\n",
        "print(f\"\\n📊 Database Statistics:\")\n",
        "print(f\"   Index: capstone\")\n",
        "print(f\"   Total vectors: {stats.get('total_vectors', 0):,}\")\n",
        "print(f\"   Dimension: {stats.get('dimension', 1024)}\")\n",
        "print(f\"   Capacity: Serverless\")"
      ]
    },
    {
      "cell_type": "markdown",
      "metadata": {
        "id": "step4"
      },
      "source": [
        "## Step 4: Upload a Video File\n",
        "\n"
      ]
    },
    {
      "cell_type": "code",
      "execution_count": 13,
      "metadata": {
        "id": "upload_video",
        "colab": {
          "base_uri": "https://localhost:8080/"
        },
        "outputId": "8be60ad2-7d48-49ce-c0a0-a4c67f4914df"
      },
      "outputs": [
        {
          "output_type": "stream",
          "name": "stdout",
          "text": [
            "📤 Choose how to get your video:\n",
            "\n",
            "1. Upload from computer (recommended for small files < 100MB)\n",
            "2. Download from URL (direct video file)\n",
            "3. Download from YouTube URL\n",
            "\n",
            "Enter choice (1/2/3): 3\n",
            "\n",
            "Enter YouTube URL (video or shorts): https://www.youtube.com/watch?v=2f2Kt8e6htw\n",
            "⬇️ Downloading from YouTube...\n",
            "   Installing yt-dlp (if needed)...\n",
            "   Fetching video info...\n",
            "✅ Downloaded successfully: youtube_video.mp4\n",
            "\n",
            "📹 Video ready: youtube_video.mp4 (2.2 MB)\n",
            "   Duration: 7.6 seconds\n",
            "   FPS: 30.0\n",
            "   Total frames: 228\n"
          ]
        }
      ],
      "source": [
        "from google.colab import files\n",
        "import os\n",
        "import subprocess\n",
        "from urllib.parse import urlparse, parse_qs\n",
        "\n",
        "print(\"📤 Choose how to get your video:\\n\")\n",
        "print(\"1. Upload from computer (recommended for small files < 100MB)\")\n",
        "print(\"2. Download from URL (direct video file)\")\n",
        "print(\"3. Download from YouTube URL\\n\")\n",
        "\n",
        "choice = input(\"Enter choice (1/2/3): \").strip()\n",
        "video_path = None\n",
        "\n",
        "if choice == \"1\":\n",
        "    print(\"\\n📁 Please select your video file...\")\n",
        "    uploaded = files.upload()\n",
        "    if uploaded:\n",
        "        video_path = list(uploaded.keys())[0]\n",
        "        print(f\"✅ Uploaded: {video_path}\")\n",
        "    else:\n",
        "        print(\"❌ No file uploaded\")\n",
        "\n",
        "elif choice == \"2\":\n",
        "    video_url = input(\"\\nEnter video URL (direct link to .mp4, .avi, etc.): \").strip()\n",
        "\n",
        "    if not video_url:\n",
        "        print(\"❌ No URL provided\")\n",
        "    else:\n",
        "        # Extract filename from URL or use default\n",
        "        parsed_url = urlparse(video_url)\n",
        "        url_filename = os.path.basename(parsed_url.path)\n",
        "\n",
        "        # Use URL filename if it has an extension, otherwise use default\n",
        "        if url_filename and '.' in url_filename:\n",
        "            video_filename = url_filename\n",
        "        else:\n",
        "            video_filename = \"downloaded_video.mp4\"\n",
        "\n",
        "        print(f\"⬇️ Downloading from URL...\")\n",
        "        print(f\"   Target file: {video_filename}\")\n",
        "\n",
        "        try:\n",
        "            # Use subprocess for better control\n",
        "            result = subprocess.run(\n",
        "                ['wget', '-O', video_filename, video_url, '--no-check-certificate', '-q', '--show-progress'],\n",
        "                capture_output=True,\n",
        "                text=True,\n",
        "                timeout=300\n",
        "            )\n",
        "\n",
        "            if result.returncode == 0 and os.path.exists(video_filename):\n",
        "                if os.path.getsize(video_filename) > 0:\n",
        "                    video_path = video_filename\n",
        "                    print(f\"✅ Downloaded successfully: {video_filename}\")\n",
        "                else:\n",
        "                    print(f\"❌ Download failed: File is empty\")\n",
        "                    if os.path.exists(video_filename):\n",
        "                        os.remove(video_filename)\n",
        "            else:\n",
        "                print(f\"❌ Download failed: wget returned code {result.returncode}\")\n",
        "                # Try alternative method with curl\n",
        "                print(\"\\n🔄 Trying alternative download method (curl)...\")\n",
        "                result2 = subprocess.run(\n",
        "                    ['curl', '-L', '-o', video_filename, video_url, '--silent', '--show-error'],\n",
        "                    capture_output=True,\n",
        "                    text=True,\n",
        "                    timeout=300\n",
        "                )\n",
        "\n",
        "                if result2.returncode == 0 and os.path.exists(video_filename) and os.path.getsize(video_filename) > 0:\n",
        "                    video_path = video_filename\n",
        "                    print(f\"✅ Downloaded successfully with curl: {video_filename}\")\n",
        "                else:\n",
        "                    print(f\"❌ Alternative download also failed\")\n",
        "                    print(\"   Please check if the URL is accessible and try again\")\n",
        "\n",
        "        except subprocess.TimeoutExpired:\n",
        "            print(\"❌ Download timed out (>5 minutes). File may be too large.\")\n",
        "        except Exception as e:\n",
        "            print(f\"❌ Download error: {e}\")\n",
        "\n",
        "elif choice == \"3\":\n",
        "    youtube_url = input(\"\\nEnter YouTube URL (video or shorts): \").strip()\n",
        "\n",
        "    if not youtube_url:\n",
        "        print(\"❌ No URL provided\")\n",
        "    else:\n",
        "        print(\"⬇️ Downloading from YouTube...\")\n",
        "        print(\"   Installing yt-dlp (if needed)...\")\n",
        "\n",
        "        # Install yt-dlp if not present\n",
        "        subprocess.run(['pip', 'install', '-q', 'yt-dlp'], check=False)\n",
        "\n",
        "        video_filename = \"youtube_video.mp4\"\n",
        "\n",
        "        try:\n",
        "            print(f\"   Fetching video info...\")\n",
        "\n",
        "            # Download with yt-dlp\n",
        "            result = subprocess.run(\n",
        "                [\n",
        "                    'yt-dlp',\n",
        "                    '-f', 'best[ext=mp4]/best',  # Best quality MP4\n",
        "                    '-o', video_filename,\n",
        "                    '--no-playlist',\n",
        "                    '--quiet',\n",
        "                    '--progress',\n",
        "                    youtube_url\n",
        "                ],\n",
        "                capture_output=True,\n",
        "                text=True,\n",
        "                timeout=600  # 10 minute timeout for YouTube\n",
        "            )\n",
        "\n",
        "            if result.returncode == 0 and os.path.exists(video_filename):\n",
        "                if os.path.getsize(video_filename) > 0:\n",
        "                    video_path = video_filename\n",
        "                    print(f\"✅ Downloaded successfully: {video_filename}\")\n",
        "                else:\n",
        "                    print(f\"❌ Download failed: File is empty\")\n",
        "                    if os.path.exists(video_filename):\n",
        "                        os.remove(video_filename)\n",
        "            else:\n",
        "                print(f\"❌ YouTube download failed\")\n",
        "                if result.stderr:\n",
        "                    print(f\"   Error: {result.stderr[:300]}\")\n",
        "                print(\"\\n💡 Troubleshooting tips:\")\n",
        "                print(\"   - Make sure the video is public and not age-restricted\")\n",
        "                print(\"   - Try using Option 1 to upload the video manually\")\n",
        "                print(\"   - Check if the URL is correct\")\n",
        "\n",
        "        except subprocess.TimeoutExpired:\n",
        "            print(\"❌ Download timed out (>10 minutes).\")\n",
        "        except Exception as e:\n",
        "            print(f\"❌ Download error: {e}\")\n",
        "\n",
        "else:\n",
        "    print(\"⚠️ Invalid choice. Please choose option 1, 2, or 3.\")\n",
        "\n",
        "# Validate the video file\n",
        "if video_path:\n",
        "    if os.path.exists(video_path):\n",
        "        file_size = os.path.getsize(video_path) / (1024*1024)  # MB\n",
        "        print(f\"\\n📹 Video ready: {video_path} ({file_size:.1f} MB)\")\n",
        "\n",
        "        # Verify it's a valid video file\n",
        "        import cv2\n",
        "        cap = cv2.VideoCapture(video_path)\n",
        "        if cap.isOpened():\n",
        "            fps = cap.get(cv2.CAP_PROP_FPS)\n",
        "            frame_count = int(cap.get(cv2.CAP_PROP_FRAME_COUNT))\n",
        "            duration = frame_count / fps if fps > 0 else 0\n",
        "            print(f\"   Duration: {duration:.1f} seconds\")\n",
        "            print(f\"   FPS: {fps:.1f}\")\n",
        "            print(f\"   Total frames: {frame_count:,}\")\n",
        "            cap.release()\n",
        "        else:\n",
        "            print(\"\\n⚠️ Warning: Unable to read video file. It may be corrupted.\")\n",
        "            print(\"   Please try a different video or URL.\")\n",
        "            video_path = None\n",
        "    else:\n",
        "        print(f\"\\n❌ Error: File not found at {video_path}\")\n",
        "        video_path = None\n",
        "\n",
        "if not video_path:\n",
        "    print(\"\\n❌ No valid video file available. Please run this cell again.\")"
      ]
    },
    {
      "cell_type": "markdown",
      "metadata": {
        "id": "step5"
      },
      "source": [
        "## Step 5: Process the Video\n",
        "\n",
        "This will:\n",
        "1. Extract frames from the video (removing redundant frames)\n",
        "2. Generate captions using BLIP AI model\n",
        "3. Create embeddings for semantic search\n",
        "4. Upload to Pinecone database\n",
        "\n",
        "**Expected time:**\n",
        "- 1 minute video: ~2-3 minutes with GPU\n",
        "- 5 minute video: ~8-10 minutes with GPU\n",
        "- CPU mode: 3-5x slower"
      ]
    },
    {
      "cell_type": "code",
      "execution_count": 14,
      "metadata": {
        "id": "process_video",
        "colab": {
          "base_uri": "https://localhost:8080/",
          "height": 431,
          "referenced_widgets": [
            "66ffc0091deb43c1a3ac934a6340ea13",
            "7059aa0cff5f4e2591ea4163fa132934",
            "44b294877f054d93a20c11c15ba004d1",
            "b91be5201da744ec8002f7c21f823a7f",
            "bb68bffbe8534a6eb5360d0557690333",
            "64386816d6b041aaacebfb51379b7214",
            "eeff9347c59e4f0693086bd45a05e40e",
            "b12427511894483cb688c99e791331fb",
            "cf32dd1529d1458fa85ea776222435c3",
            "59e948f6f1e34790a8a5a99a91d76582",
            "e170f578452f4fc1aa859a44fcf2aaef"
          ]
        },
        "outputId": "1c333abe-c747-440f-ee7e-0c26a647b96e"
      },
      "outputs": [
        {
          "output_type": "stream",
          "name": "stdout",
          "text": [
            "Enter a name for this video (or press Enter for auto-name): bag_ad\n",
            "\n",
            "🎬 Processing video: bag_ad\n",
            "⏳ This will take a few minutes... Please wait.\n",
            "\n",
            "============================================================\n"
          ]
        },
        {
          "output_type": "stream",
          "name": "stderr",
          "text": [
            "Extracting frames: 100%|██████████| 228/228 [00:03<00:00, 64.66it/s] \n",
            "Generating multi-captions: 100%|██████████| 5/5 [00:03<00:00,  1.26it/s]\n"
          ]
        },
        {
          "output_type": "display_data",
          "data": {
            "text/plain": [
              "Batches:   0%|          | 0/1 [00:00<?, ?it/s]"
            ],
            "application/vnd.jupyter.widget-view+json": {
              "version_major": 2,
              "version_minor": 0,
              "model_id": "66ffc0091deb43c1a3ac934a6340ea13"
            }
          },
          "metadata": {}
        },
        {
          "output_type": "stream",
          "name": "stderr",
          "text": [
            "Uploading to Pinecone: 100%|██████████| 1/1 [00:00<00:00,  1.36it/s]\n"
          ]
        },
        {
          "output_type": "stream",
          "name": "stdout",
          "text": [
            "\n",
            "============================================================\n",
            "\n",
            "✅ VIDEO PROCESSING COMPLETE!\n",
            "\n",
            "📊 Processing Statistics:\n",
            "   Video name: bag_ad\n",
            "   Frames extracted: 5\n",
            "   Captions generated: 14\n",
            "   Embeddings uploaded: 14\n",
            "   Processing time: 0.2 minutes\n",
            "\n",
            "   Frame reduction: -180.0%\n"
          ]
        }
      ],
      "source": [
        "import time\n",
        "from datetime import datetime\n",
        "\n",
        "if 'video_path' not in locals() or not video_path:\n",
        "    print(\"❌ Please upload a video first (run the previous cell)\")\n",
        "else:\n",
        "    # Set video name\n",
        "    video_name = input(\"Enter a name for this video (or press Enter for auto-name): \").strip()\n",
        "    if not video_name:\n",
        "        video_name = f\"video_{datetime.now().strftime('%Y%m%d_%H%M%S')}\"\n",
        "\n",
        "    print(f\"\\n🎬 Processing video: {video_name}\")\n",
        "    print(\"⏳ This will take a few minutes... Please wait.\\n\")\n",
        "    print(\"=\" * 60)\n",
        "\n",
        "    start_time = time.time()\n",
        "\n",
        "    try:\n",
        "        # Process the video\n",
        "        stats = engine.process_video(\n",
        "            video_path=video_path,\n",
        "            video_name=video_name,\n",
        "            save_frames=False,  # Set to True to save frames\n",
        "            upload_to_pinecone=True\n",
        "        )\n",
        "\n",
        "        processing_time = time.time() - start_time\n",
        "\n",
        "        print(\"\\n\" + \"=\" * 60)\n",
        "        print(\"\\n✅ VIDEO PROCESSING COMPLETE!\\n\")\n",
        "        print(f\"📊 Processing Statistics:\")\n",
        "        print(f\"   Video name: {video_name}\")\n",
        "        print(f\"   Frames extracted: {stats['total_frames_extracted']:,}\")\n",
        "        print(f\"   Frames with captions: {stats['frames_with_captions']:,}\")\n",
        "        print(f\"   Captions before dedupe: {stats.get('captions_before_dedupe', stats['frames_with_captions']):,}\")\n",
        "        print(f\"   Unique embeddings: {stats.get('embeddings_generated', 0):,}\")\n",
        "        print(f\"   ✅ Actually uploaded: {stats['embeddings_uploaded']:,}\")\n",
        "        print(f\"   Processing time: {processing_time/60:.1f} minutes\")\n",
        "        print(f\"\\n   Frame reduction: {stats.get('frame_reduction_percent', 0):.1f}%\")\n",
        "\n",
        "        # Save video_name for next steps\n",
        "        processed_video_name = video_name\n",
        "\n",
        "    except Exception as e:\n",
        "        print(f\"\\n❌ Error processing video: {e}\")\n",
        "        print(\"\\nTroubleshooting tips:\")\n",
        "        print(\"- If GPU memory error: Restart runtime and try again\")\n",
        "        print(\"- If video format error: Convert video to MP4 format\")"
      ]
    },
    {
      "cell_type": "markdown",
      "metadata": {
        "id": "step6"
      },
      "source": [
        "## Step 6: Search Your Video!\n",
        "\n",
        "Now you can search for content using natural language queries.\n",
        "\n",
        "**Example queries:**\n",
        "- \"person walking\"\n",
        "- \"black bag\"\n",
        "- \"someone talking on phone\"\n",
        "- \"car driving\"\n",
        "- \"red shirt\"\n",
        "\n",
        "The system will return timestamps where that content appears!"
      ]
    },
    {
      "cell_type": "code",
      "execution_count": 12,
      "metadata": {
        "id": "search_single",
        "colab": {
          "base_uri": "https://localhost:8080/"
        },
        "outputId": "37a0e728-464a-452c-d3e3-fe0d99e99d6c"
      },
      "outputs": [
        {
          "output_type": "stream",
          "name": "stdout",
          "text": [
            "🔍 Enter your search query: bag\n",
            "\n",
            "Searching for: 'bag'...\n",
            "============================================================\n",
            "\n",
            "✅ Found 2 results:\n",
            "\n",
            "1. ⏱️ Timestamp: 00:03.80\n",
            "   📝 Caption: A red and white bus.\n",
            "   📊 Confidence: 52.6%\n",
            "   🎥 Video: yt_vid\n",
            "\n",
            "2. ⏱️ Timestamp: 00:00.03\n",
            "   📝 Caption: A picture of a hallway in a building.\n",
            "   📊 Confidence: 52.1%\n",
            "   🎥 Video: bag_video\n",
            "\n"
          ]
        }
      ],
      "source": [
        "# Single search query\n",
        "query = input(\"🔍 Enter your search query: \")\n",
        "\n",
        "print(f\"\\nSearching for: '{query}'...\")\n",
        "print(\"=\" * 60)\n",
        "\n",
        "results = engine.search(\n",
        "    query=query,\n",
        "    top_k=5,\n",
        "    similarity_threshold=0.5\n",
        ")\n",
        "\n",
        "if results:\n",
        "    print(f\"\\n✅ Found {len(results)} results:\\n\")\n",
        "\n",
        "    for i, result in enumerate(results, 1):\n",
        "        print(f\"{i}. ⏱️ Timestamp: {result['time_formatted']}\")\n",
        "        print(f\"   📝 Caption: {result['caption']}\")\n",
        "        print(f\"   📊 Confidence: {result['similarity_score']:.1%}\")\n",
        "        print(f\"   🎥 Video: {result['video_name']}\")\n",
        "        print()\n",
        "else:\n",
        "    print(\"\\n❌ No results found. Try:\")\n",
        "    print(\"   - Different search terms\")\n",
        "    print(\"   - More general queries\")\n",
        "    print(\"   - Lowering the similarity threshold\")"
      ]
    },
    {
      "cell_type": "markdown",
      "metadata": {
        "id": "step7"
      },
      "source": [
        "## Step 7: Batch Search (Multiple Queries)\n",
        "\n",
        "Search for multiple things at once!"
      ]
    },
    {
      "cell_type": "code",
      "execution_count": null,
      "metadata": {
        "id": "batch_search"
      },
      "outputs": [],
      "source": [
        "# Define multiple queries\n",
        "queries = [\n",
        "    \"person walking\",\n",
        "    \"someone sitting\",\n",
        "    \"black bag\",\n",
        "    \"outdoor scene\",\n",
        "    \"person talking\"\n",
        "]\n",
        "\n",
        "print(\"🔍 Running batch search...\\n\")\n",
        "print(\"=\" * 60)\n",
        "\n",
        "batch_results = engine.batch_search(queries, top_k=3)\n",
        "\n",
        "for query, results in batch_results.items():\n",
        "    print(f\"\\n📌 Query: '{query}'\")\n",
        "    print(f\"   Found {len(results)} results\")\n",
        "\n",
        "    if results:\n",
        "        for result in results[:2]:  # Show top 2\n",
        "            print(f\"   └─ {result['time_formatted']} - {result['caption'][:50]}... ({result['similarity_score']:.0%})\")\n",
        "    else:\n",
        "        print(\"   └─ No results\")\n",
        "\n",
        "print(\"\\n\" + \"=\" * 60)"
      ]
    },
    {
      "cell_type": "markdown",
      "metadata": {
        "id": "step8"
      },
      "source": [
        "## Step 8: Advanced Search with Filters\n",
        "\n",
        "Search with additional filters:\n",
        "- Filter by specific video\n",
        "- Search within time range\n",
        "- Adjust confidence threshold"
      ]
    },
    {
      "cell_type": "code",
      "execution_count": null,
      "metadata": {
        "id": "advanced_search"
      },
      "outputs": [],
      "source": [
        "# Advanced search example\n",
        "query = input(\"Enter search query: \")\n",
        "\n",
        "# Optional: Filter by time window (in seconds)\n",
        "use_time_filter = input(\"Filter by time range? (y/n): \").lower() == 'y'\n",
        "\n",
        "time_window = None\n",
        "if use_time_filter:\n",
        "    start_time = float(input(\"Start time (seconds): \"))\n",
        "    end_time = float(input(\"End time (seconds): \"))\n",
        "    time_window = (start_time, end_time)\n",
        "\n",
        "# Optional: Filter by video name\n",
        "video_filter = None\n",
        "if 'processed_video_name' in locals():\n",
        "    filter_video = input(f\"Search only in '{processed_video_name}'? (y/n): \").lower() == 'y'\n",
        "    if filter_video:\n",
        "        video_filter = processed_video_name\n",
        "\n",
        "# Perform search\n",
        "print(f\"\\n🔍 Searching with filters...\")\n",
        "results = engine.search(\n",
        "    query=query,\n",
        "    top_k=10,\n",
        "    similarity_threshold=0.4,  # Lower threshold for more results\n",
        "    video_filter=video_filter,\n",
        "    time_window=time_window\n",
        ")\n",
        "\n",
        "print(f\"\\n✅ Found {len(results)} results:\\n\")\n",
        "for i, result in enumerate(results, 1):\n",
        "    print(f\"{i}. {result['time_formatted']} - {result['caption'][:60]}... ({result['similarity_score']:.1%})\")"
      ]
    },
    {
      "cell_type": "markdown",
      "metadata": {
        "id": "step11"
      },
      "source": [
        "## Step 11: Interactive Search Interface\n"
      ]
    },
    {
      "cell_type": "code",
      "execution_count": null,
      "metadata": {
        "id": "interactive"
      },
      "outputs": [],
      "source": [
        "print(\"🎯 INTERACTIVE VIDEO SEARCH\")\n",
        "print(\"=\" * 60)\n",
        "print(\"Enter your search queries (type 'quit' to exit)\\n\")\n",
        "\n",
        "while True:\n",
        "    query = input(\"\\n🔍 Search: \").strip()\n",
        "\n",
        "    if query.lower() in ['quit', 'exit', 'q']:\n",
        "        print(\"\\n👋 Goodbye!\")\n",
        "        break\n",
        "\n",
        "    if not query:\n",
        "        continue\n",
        "\n",
        "    results = engine.search(query, top_k=5)\n",
        "\n",
        "    if results:\n",
        "        print(f\"\\n✅ Found {len(results)} results:\")\n",
        "        for i, result in enumerate(results, 1):\n",
        "            score_emoji = \"🟢\" if result['similarity_score'] > 0.7 else \"🟡\" if result['similarity_score'] > 0.5 else \"🟠\"\n",
        "            print(f\"\\n{i}. {score_emoji} {result['time_formatted']} ({result['similarity_score']:.0%})\")\n",
        "            print(f\"   {result['caption']}\")\n",
        "    else:\n",
        "        print(\"\\n❌ No results found. Try a different query.\")"
      ]
    }
  ],
  "metadata": {
    "accelerator": "GPU",
    "colab": {
      "gpuType": "T4",
      "provenance": []
    },
    "kernelspec": {
      "display_name": "Python 3",
      "name": "python3"
    },
    "language_info": {
      "name": "python"
    },
    "widgets": {
      "application/vnd.jupyter.widget-state+json": {
        "66ffc0091deb43c1a3ac934a6340ea13": {
          "model_module": "@jupyter-widgets/controls",
          "model_name": "HBoxModel",
          "model_module_version": "1.5.0",
          "state": {
            "_dom_classes": [],
            "_model_module": "@jupyter-widgets/controls",
            "_model_module_version": "1.5.0",
            "_model_name": "HBoxModel",
            "_view_count": null,
            "_view_module": "@jupyter-widgets/controls",
            "_view_module_version": "1.5.0",
            "_view_name": "HBoxView",
            "box_style": "",
            "children": [
              "IPY_MODEL_7059aa0cff5f4e2591ea4163fa132934",
              "IPY_MODEL_44b294877f054d93a20c11c15ba004d1",
              "IPY_MODEL_b91be5201da744ec8002f7c21f823a7f"
            ],
            "layout": "IPY_MODEL_bb68bffbe8534a6eb5360d0557690333"
          }
        },
        "7059aa0cff5f4e2591ea4163fa132934": {
          "model_module": "@jupyter-widgets/controls",
          "model_name": "HTMLModel",
          "model_module_version": "1.5.0",
          "state": {
            "_dom_classes": [],
            "_model_module": "@jupyter-widgets/controls",
            "_model_module_version": "1.5.0",
            "_model_name": "HTMLModel",
            "_view_count": null,
            "_view_module": "@jupyter-widgets/controls",
            "_view_module_version": "1.5.0",
            "_view_name": "HTMLView",
            "description": "",
            "description_tooltip": null,
            "layout": "IPY_MODEL_64386816d6b041aaacebfb51379b7214",
            "placeholder": "​",
            "style": "IPY_MODEL_eeff9347c59e4f0693086bd45a05e40e",
            "value": "Batches: 100%"
          }
        },
        "44b294877f054d93a20c11c15ba004d1": {
          "model_module": "@jupyter-widgets/controls",
          "model_name": "FloatProgressModel",
          "model_module_version": "1.5.0",
          "state": {
            "_dom_classes": [],
            "_model_module": "@jupyter-widgets/controls",
            "_model_module_version": "1.5.0",
            "_model_name": "FloatProgressModel",
            "_view_count": null,
            "_view_module": "@jupyter-widgets/controls",
            "_view_module_version": "1.5.0",
            "_view_name": "ProgressView",
            "bar_style": "success",
            "description": "",
            "description_tooltip": null,
            "layout": "IPY_MODEL_b12427511894483cb688c99e791331fb",
            "max": 1,
            "min": 0,
            "orientation": "horizontal",
            "style": "IPY_MODEL_cf32dd1529d1458fa85ea776222435c3",
            "value": 1
          }
        },
        "b91be5201da744ec8002f7c21f823a7f": {
          "model_module": "@jupyter-widgets/controls",
          "model_name": "HTMLModel",
          "model_module_version": "1.5.0",
          "state": {
            "_dom_classes": [],
            "_model_module": "@jupyter-widgets/controls",
            "_model_module_version": "1.5.0",
            "_model_name": "HTMLModel",
            "_view_count": null,
            "_view_module": "@jupyter-widgets/controls",
            "_view_module_version": "1.5.0",
            "_view_name": "HTMLView",
            "description": "",
            "description_tooltip": null,
            "layout": "IPY_MODEL_59e948f6f1e34790a8a5a99a91d76582",
            "placeholder": "​",
            "style": "IPY_MODEL_e170f578452f4fc1aa859a44fcf2aaef",
            "value": " 1/1 [00:00&lt;00:00, 14.94it/s]"
          }
        },
        "bb68bffbe8534a6eb5360d0557690333": {
          "model_module": "@jupyter-widgets/base",
          "model_name": "LayoutModel",
          "model_module_version": "1.2.0",
          "state": {
            "_model_module": "@jupyter-widgets/base",
            "_model_module_version": "1.2.0",
            "_model_name": "LayoutModel",
            "_view_count": null,
            "_view_module": "@jupyter-widgets/base",
            "_view_module_version": "1.2.0",
            "_view_name": "LayoutView",
            "align_content": null,
            "align_items": null,
            "align_self": null,
            "border": null,
            "bottom": null,
            "display": null,
            "flex": null,
            "flex_flow": null,
            "grid_area": null,
            "grid_auto_columns": null,
            "grid_auto_flow": null,
            "grid_auto_rows": null,
            "grid_column": null,
            "grid_gap": null,
            "grid_row": null,
            "grid_template_areas": null,
            "grid_template_columns": null,
            "grid_template_rows": null,
            "height": null,
            "justify_content": null,
            "justify_items": null,
            "left": null,
            "margin": null,
            "max_height": null,
            "max_width": null,
            "min_height": null,
            "min_width": null,
            "object_fit": null,
            "object_position": null,
            "order": null,
            "overflow": null,
            "overflow_x": null,
            "overflow_y": null,
            "padding": null,
            "right": null,
            "top": null,
            "visibility": null,
            "width": null
          }
        },
        "64386816d6b041aaacebfb51379b7214": {
          "model_module": "@jupyter-widgets/base",
          "model_name": "LayoutModel",
          "model_module_version": "1.2.0",
          "state": {
            "_model_module": "@jupyter-widgets/base",
            "_model_module_version": "1.2.0",
            "_model_name": "LayoutModel",
            "_view_count": null,
            "_view_module": "@jupyter-widgets/base",
            "_view_module_version": "1.2.0",
            "_view_name": "LayoutView",
            "align_content": null,
            "align_items": null,
            "align_self": null,
            "border": null,
            "bottom": null,
            "display": null,
            "flex": null,
            "flex_flow": null,
            "grid_area": null,
            "grid_auto_columns": null,
            "grid_auto_flow": null,
            "grid_auto_rows": null,
            "grid_column": null,
            "grid_gap": null,
            "grid_row": null,
            "grid_template_areas": null,
            "grid_template_columns": null,
            "grid_template_rows": null,
            "height": null,
            "justify_content": null,
            "justify_items": null,
            "left": null,
            "margin": null,
            "max_height": null,
            "max_width": null,
            "min_height": null,
            "min_width": null,
            "object_fit": null,
            "object_position": null,
            "order": null,
            "overflow": null,
            "overflow_x": null,
            "overflow_y": null,
            "padding": null,
            "right": null,
            "top": null,
            "visibility": null,
            "width": null
          }
        },
        "eeff9347c59e4f0693086bd45a05e40e": {
          "model_module": "@jupyter-widgets/controls",
          "model_name": "DescriptionStyleModel",
          "model_module_version": "1.5.0",
          "state": {
            "_model_module": "@jupyter-widgets/controls",
            "_model_module_version": "1.5.0",
            "_model_name": "DescriptionStyleModel",
            "_view_count": null,
            "_view_module": "@jupyter-widgets/base",
            "_view_module_version": "1.2.0",
            "_view_name": "StyleView",
            "description_width": ""
          }
        },
        "b12427511894483cb688c99e791331fb": {
          "model_module": "@jupyter-widgets/base",
          "model_name": "LayoutModel",
          "model_module_version": "1.2.0",
          "state": {
            "_model_module": "@jupyter-widgets/base",
            "_model_module_version": "1.2.0",
            "_model_name": "LayoutModel",
            "_view_count": null,
            "_view_module": "@jupyter-widgets/base",
            "_view_module_version": "1.2.0",
            "_view_name": "LayoutView",
            "align_content": null,
            "align_items": null,
            "align_self": null,
            "border": null,
            "bottom": null,
            "display": null,
            "flex": null,
            "flex_flow": null,
            "grid_area": null,
            "grid_auto_columns": null,
            "grid_auto_flow": null,
            "grid_auto_rows": null,
            "grid_column": null,
            "grid_gap": null,
            "grid_row": null,
            "grid_template_areas": null,
            "grid_template_columns": null,
            "grid_template_rows": null,
            "height": null,
            "justify_content": null,
            "justify_items": null,
            "left": null,
            "margin": null,
            "max_height": null,
            "max_width": null,
            "min_height": null,
            "min_width": null,
            "object_fit": null,
            "object_position": null,
            "order": null,
            "overflow": null,
            "overflow_x": null,
            "overflow_y": null,
            "padding": null,
            "right": null,
            "top": null,
            "visibility": null,
            "width": null
          }
        },
        "cf32dd1529d1458fa85ea776222435c3": {
          "model_module": "@jupyter-widgets/controls",
          "model_name": "ProgressStyleModel",
          "model_module_version": "1.5.0",
          "state": {
            "_model_module": "@jupyter-widgets/controls",
            "_model_module_version": "1.5.0",
            "_model_name": "ProgressStyleModel",
            "_view_count": null,
            "_view_module": "@jupyter-widgets/base",
            "_view_module_version": "1.2.0",
            "_view_name": "StyleView",
            "bar_color": null,
            "description_width": ""
          }
        },
        "59e948f6f1e34790a8a5a99a91d76582": {
          "model_module": "@jupyter-widgets/base",
          "model_name": "LayoutModel",
          "model_module_version": "1.2.0",
          "state": {
            "_model_module": "@jupyter-widgets/base",
            "_model_module_version": "1.2.0",
            "_model_name": "LayoutModel",
            "_view_count": null,
            "_view_module": "@jupyter-widgets/base",
            "_view_module_version": "1.2.0",
            "_view_name": "LayoutView",
            "align_content": null,
            "align_items": null,
            "align_self": null,
            "border": null,
            "bottom": null,
            "display": null,
            "flex": null,
            "flex_flow": null,
            "grid_area": null,
            "grid_auto_columns": null,
            "grid_auto_flow": null,
            "grid_auto_rows": null,
            "grid_column": null,
            "grid_gap": null,
            "grid_row": null,
            "grid_template_areas": null,
            "grid_template_columns": null,
            "grid_template_rows": null,
            "height": null,
            "justify_content": null,
            "justify_items": null,
            "left": null,
            "margin": null,
            "max_height": null,
            "max_width": null,
            "min_height": null,
            "min_width": null,
            "object_fit": null,
            "object_position": null,
            "order": null,
            "overflow": null,
            "overflow_x": null,
            "overflow_y": null,
            "padding": null,
            "right": null,
            "top": null,
            "visibility": null,
            "width": null
          }
        },
        "e170f578452f4fc1aa859a44fcf2aaef": {
          "model_module": "@jupyter-widgets/controls",
          "model_name": "DescriptionStyleModel",
          "model_module_version": "1.5.0",
          "state": {
            "_model_module": "@jupyter-widgets/controls",
            "_model_module_version": "1.5.0",
            "_model_name": "DescriptionStyleModel",
            "_view_count": null,
            "_view_module": "@jupyter-widgets/base",
            "_view_module_version": "1.2.0",
            "_view_name": "StyleView",
            "description_width": ""
          }
        }
      }
    }
  },
  "nbformat": 4,
  "nbformat_minor": 0
}