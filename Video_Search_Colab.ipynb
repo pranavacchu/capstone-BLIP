{
 "cells": [
  {
   "cell_type": "markdown",
   "metadata": {
    "id": "header"
   },
   "source": [
    "# 🎥 Video Frame Search System with BLIP & Pinecone\n",
    "\n",
    "This notebook sets up a complete video semantic search engine that:\n",
    "- Extracts frames from videos\n",
    "- Generates captions using BLIP\n",
    "- Stores embeddings in Pinecone\n",
    "- Enables natural language search\n",
    "\n",
    "---\n",
    "\n",
    "## 📋 Prerequisites\n",
    "1. **GPU Runtime**: Go to `Runtime` → `Change runtime type` → Select `GPU` (T4 recommended)\n",
    "2. **Pinecone API Key**: You'll enter this in Step 3\n",
    "\n",
    "---"
   ]
  },
  {
   "cell_type": "markdown",
   "metadata": {
    "id": "step1"
   },
   "source": [
    "## 🔧 Step 1: Setup - Clone Repository & Install Dependencies\n",
    "\n",
    "This will:\n",
    "- Clone the GitHub repository\n",
    "- Install all required packages\n",
    "- Check GPU availability\n",
    "\n",
    "**⏱️ Expected time: 3-5 minutes**"
   ]
  },
  {
   "cell_type": "code",
   "execution_count": null,
   "metadata": {
    "id": "setup"
   },
   "outputs": [],
   "source": [
    "# Clone the repository\n",
    "!git clone https://github.com/pranavacchu/capstone-BLIP.git\n",
    "%cd capstone-BLIP\n",
    "\n",
    "# Install dependencies\n",
    "print(\"📦 Installing dependencies... This will take 3-5 minutes\")\n",
    "!pip install -q opencv-python-headless pillow numpy pandas tqdm python-dotenv\n",
    "!pip install -q torch torchvision transformers sentence-transformers\n",
    "!pip install -q pinecone FlagEmbedding\n",
    "\n",
    "print(\"\\n✅ Installation complete!\")\n",
    "\n",
    "# Check GPU availability\n",
    "import torch\n",
    "if torch.cuda.is_available():\n",
    "    print(f\"\\n🚀 GPU detected: {torch.cuda.get_device_name(0)}\")\n",
    "    print(f\"   Memory: {torch.cuda.get_device_properties(0).total_memory / 1e9:.1f} GB\")\n",
    "else:\n",
    "    print(\"\\n⚠️ No GPU detected. Using CPU (slower but works)\")"
   ]
  },
  {
   "cell_type": "markdown",
   "metadata": {
    "id": "step2"
   },
   "source": [
    "## 🔑 Step 2: Configure Pinecone API Key\n",
    "\n",
    "Enter your Pinecone credentials below:\n",
    "- **API Key**: Your Pinecone API key\n",
    "- **Index Host**: Your index URL (from Pinecone dashboard)\n",
    "\n",
    "Your current settings:\n",
    "```\n",
    "API Key: pcsk_51Fgoo_2S9NQf4CHi8LMpX7AXKv4TEHgRdXR3huZcCwBdJkr7BMvmdGHeRASrk5hkz4AH1\n",
    "Host: https://capstone-b5a0x4x.svc.aped-4627-b74a.pinecone.io\n",
    "```"
   ]
  },
  {
   "cell_type": "code",
   "execution_count": null,
   "metadata": {
    "id": "config"
   },
   "outputs": [],
   "source": [
    "import os\n",
    "\n",
    "# Set your Pinecone credentials\n",
    "PINECONE_API_KEY = \"pcsk_51Fgoo_2S9NQf4CHi8LMpX7AXKv4TEHgRdXR3huZcCwBdJkr7BMvmdGHeRASrk5hkz4AH1\"\n",
    "PINECONE_HOST = \"https://capstone-b5a0x4x.svc.aped-4627-b74a.pinecone.io\"\n",
    "PINECONE_ENVIRONMENT = \"us-east-1\"\n",
    "\n",
    "# Write to .env file\n",
    "with open('.env', 'w') as f:\n",
    "    f.write(f\"PINECONE_API_KEY={PINECONE_API_KEY}\\n\")\n",
    "    f.write(f\"PINECONE_HOST={PINECONE_HOST}\\n\")\n",
    "    f.write(f\"PINECONE_ENVIRONMENT={PINECONE_ENVIRONMENT}\\n\")\n",
    "\n",
    "print(\"✅ Configuration saved!\")"
   ]
  },
  {
   "cell_type": "markdown",
   "metadata": {
    "id": "step3"
   },
   "source": [
    "## 🧪 Step 3: Test Connection to Pinecone\n",
    "\n",
    "Let's verify the system can connect to your Pinecone database."
   ]
  },
  {
   "cell_type": "code",
   "execution_count": null,
   "metadata": {
    "id": "test_connection"
   },
   "outputs": [],
   "source": [
    "from video_search_engine import VideoSearchEngine\n",
    "\n",
    "print(\"🔌 Connecting to Pinecone...\")\n",
    "engine = VideoSearchEngine()\n",
    "\n",
    "# Get database stats\n",
    "stats = engine.get_index_stats()\n",
    "\n",
    "print(\"\\n✅ Successfully connected to Pinecone!\")\n",
    "print(f\"\\n📊 Database Statistics:\")\n",
    "print(f\"   Index: capstone\")\n",
    "print(f\"   Total vectors: {stats.get('total_vectors', 0):,}\")\n",
    "print(f\"   Dimension: {stats.get('dimension', 1024)}\")\n",
    "print(f\"   Capacity: Serverless\")"
   ]
  },
  {
   "cell_type": "markdown",
   "metadata": {
    "id": "step4"
   },
   "source": [
    "## 📤 Step 4: Upload a Video File\n",
    "\n",
    "You have two options:\n",
    "\n",
    "### Option A: Upload from your computer\n",
    "Run the cell below and click \"Choose Files\" to upload a video.\n",
    "\n",
    "### Option B: Use a sample video URL\n",
    "Download a sample video directly from a URL."
   ]
  },
  {
   "cell_type": "code",
   "execution_count": null,
   "metadata": {
    "id": "upload_video"
   },
   "outputs": [],
   "source": [
    "from google.colab import files\n",
    "import os\n",
    "\n",
    "print(\"📤 Choose how to get your video:\\n\")\n",
    "print(\"1. Upload from computer (recommended for small files < 100MB)\")\n",
    "print(\"2. Download from URL\")\n",
    "print(\"3. Use sample video\\n\")\n",
    "\n",
    "choice = input(\"Enter choice (1/2/3): \")\n",
    "\n",
    "if choice == \"1\":\n",
    "    print(\"\\n📁 Please select your video file...\")\n",
    "    uploaded = files.upload()\n",
    "    video_path = list(uploaded.keys())[0]\n",
    "    print(f\"✅ Uploaded: {video_path}\")\n",
    "    \n",
    "elif choice == \"2\":\n",
    "    video_url = input(\"Enter video URL: \")\n",
    "    video_filename = \"downloaded_video.mp4\"\n",
    "    print(f\"⬇️ Downloading from {video_url}...\")\n",
    "    !wget -O {video_filename} \"{video_url}\"\n",
    "    video_path = video_filename\n",
    "    print(f\"✅ Downloaded: {video_path}\")\n",
    "    \n",
    "else:\n",
    "    # Use a sample video (you can add a default URL here)\n",
    "    print(\"⚠️ No sample video configured. Please choose option 1 or 2.\")\n",
    "    video_path = None\n",
    "\n",
    "if video_path and os.path.exists(video_path):\n",
    "    file_size = os.path.getsize(video_path) / (1024*1024)  # MB\n",
    "    print(f\"\\n📹 Video ready: {video_path} ({file_size:.1f} MB)\")\n",
    "else:\n",
    "    print(\"\\n❌ No video file available. Please run this cell again.\")"
   ]
  },
  {
   "cell_type": "markdown",
   "metadata": {
    "id": "step5"
   },
   "source": [
    "## 🎬 Step 5: Process the Video\n",
    "\n",
    "This will:\n",
    "1. Extract frames from the video (removing redundant frames)\n",
    "2. Generate captions using BLIP AI model\n",
    "3. Create embeddings for semantic search\n",
    "4. Upload to Pinecone database\n",
    "\n",
    "**⏱️ Expected time:**\n",
    "- 1 minute video: ~2-3 minutes with GPU\n",
    "- 5 minute video: ~8-10 minutes with GPU\n",
    "- CPU mode: 3-5x slower"
   ]
  },
  {
   "cell_type": "code",
   "execution_count": null,
   "metadata": {
    "id": "process_video"
   },
   "outputs": [],
   "source": [
    "import time\n",
    "from datetime import datetime\n",
    "\n",
    "if 'video_path' not in locals() or not video_path:\n",
    "    print(\"❌ Please upload a video first (run the previous cell)\")\n",
    "else:\n",
    "    # Set video name\n",
    "    video_name = input(\"Enter a name for this video (or press Enter for auto-name): \").strip()\n",
    "    if not video_name:\n",
    "        video_name = f\"video_{datetime.now().strftime('%Y%m%d_%H%M%S')}\"\n",
    "    \n",
    "    print(f\"\\n🎬 Processing video: {video_name}\")\n",
    "    print(\"⏳ This will take a few minutes... Please wait.\\n\")\n",
    "    print(\"=\" * 60)\n",
    "    \n",
    "    start_time = time.time()\n",
    "    \n",
    "    try:\n",
    "        # Process the video\n",
    "        stats = engine.process_video(\n",
    "            video_path=video_path,\n",
    "            video_name=video_name,\n",
    "            save_frames=False,  # Set to True to save frames\n",
    "            upload_to_pinecone=True\n",
    "        )\n",
    "        \n",
    "        processing_time = time.time() - start_time\n",
    "        \n",
    "        print(\"\\n\" + \"=\" * 60)\n",
    "        print(\"\\n✅ VIDEO PROCESSING COMPLETE!\\n\")\n",
    "        print(f\"📊 Processing Statistics:\")\n",
    "        print(f\"   Video name: {video_name}\")\n",
    "        print(f\"   Frames extracted: {stats['total_frames_extracted']:,}\")\n",
    "        print(f\"   Captions generated: {stats['frames_with_captions']:,}\")\n",
    "        print(f\"   Embeddings uploaded: {stats['embeddings_uploaded']:,}\")\n",
    "        print(f\"   Processing time: {processing_time/60:.1f} minutes\")\n",
    "        print(f\"\\n   Frame reduction: {(1 - stats['frames_with_captions']/stats['total_frames_extracted'])*100:.1f}%\")\n",
    "        \n",
    "        # Save video_name for next steps\n",
    "        processed_video_name = video_name\n",
    "        \n",
    "    except Exception as e:\n",
    "        print(f\"\\n❌ Error processing video: {e}\")\n",
    "        print(\"\\nTroubleshooting tips:\")\n",
    "        print(\"- If GPU memory error: Restart runtime and try again\")\n",
    "        print(\"- If video format error: Convert video to MP4 format\")"
   ]
  },
  {
   "cell_type": "markdown",
   "metadata": {
    "id": "step6"
   },
   "source": [
    "## 🔍 Step 6: Search Your Video!\n",
    "\n",
    "Now you can search for content using natural language queries.\n",
    "\n",
    "**Example queries:**\n",
    "- \"person walking\"\n",
    "- \"black bag\"\n",
    "- \"someone talking on phone\"\n",
    "- \"car driving\"\n",
    "- \"red shirt\"\n",
    "\n",
    "The system will return timestamps where that content appears!"
   ]
  },
  {
   "cell_type": "code",
   "execution_count": null,
   "metadata": {
    "id": "search_single"
   },
   "outputs": [],
   "source": [
    "# Single search query\n",
    "query = input(\"🔍 Enter your search query: \")\n",
    "\n",
    "print(f\"\\nSearching for: '{query}'...\")\n",
    "print(\"=\" * 60)\n",
    "\n",
    "results = engine.search(\n",
    "    query=query,\n",
    "    top_k=5,\n",
    "    similarity_threshold=0.5\n",
    ")\n",
    "\n",
    "if results:\n",
    "    print(f\"\\n✅ Found {len(results)} results:\\n\")\n",
    "    \n",
    "    for i, result in enumerate(results, 1):\n",
    "        print(f\"{i}. ⏱️ Timestamp: {result['time_formatted']}\")\n",
    "        print(f\"   📝 Caption: {result['caption']}\")\n",
    "        print(f\"   📊 Confidence: {result['similarity_score']:.1%}\")\n",
    "        print(f\"   🎥 Video: {result['video_name']}\")\n",
    "        print()\nelse:\n",
    "    print(\"\\n❌ No results found. Try:\")\n",
    "    print(\"   - Different search terms\")\n",
    "    print(\"   - More general queries\")\n",
    "    print(\"   - Lowering the similarity threshold\")"
   ]
  },
  {
   "cell_type": "markdown",
   "metadata": {
    "id": "step7"
   },
   "source": [
    "## 🔎 Step 7: Batch Search (Multiple Queries)\n",
    "\n",
    "Search for multiple things at once!"
   ]
  },
  {
   "cell_type": "code",
   "execution_count": null,
   "metadata": {
    "id": "batch_search"
   },
   "outputs": [],
   "source": [
    "# Define multiple queries\n",
    "queries = [\n",
    "    \"person walking\",\n",
    "    \"someone sitting\",\n",
    "    \"black bag\",\n",
    "    \"outdoor scene\",\n",
    "    \"person talking\"\n",
    "]\n",
    "\n",
    "print(\"🔍 Running batch search...\\n\")\n",
    "print(\"=\" * 60)\n",
    "\n",
    "batch_results = engine.batch_search(queries, top_k=3)\n",
    "\n",
    "for query, results in batch_results.items():\n",
    "    print(f\"\\n📌 Query: '{query}'\")\n",
    "    print(f\"   Found {len(results)} results\")\n",
    "    \n",
    "    if results:\n",
    "        for result in results[:2]:  # Show top 2\n",
    "            print(f\"   └─ {result['time_formatted']} - {result['caption'][:50]}... ({result['similarity_score']:.0%})\")\n",
    "    else:\n",
    "        print(\"   └─ No results\")\n",
    "\n",
    "print(\"\\n\" + \"=\" * 60)"
   ]
  },
  {
   "cell_type": "markdown",
   "metadata": {
    "id": "step8"
   },
   "source": [
    "## 🎯 Step 8: Advanced Search with Filters\n",
    "\n",
    "Search with additional filters:\n",
    "- Filter by specific video\n",
    "- Search within time range\n",
    "- Adjust confidence threshold"
   ]
  },
  {
   "cell_type": "code",
   "execution_count": null,
   "metadata": {
    "id": "advanced_search"
   },
   "outputs": [],
   "source": [
    "# Advanced search example\n",
    "query = input(\"Enter search query: \")\n",
    "\n",
    "# Optional: Filter by time window (in seconds)\n",
    "use_time_filter = input(\"Filter by time range? (y/n): \").lower() == 'y'\n",
    "\n",
    "time_window = None\n",
    "if use_time_filter:\n",
    "    start_time = float(input(\"Start time (seconds): \"))\n",
    "    end_time = float(input(\"End time (seconds): \"))\n",
    "    time_window = (start_time, end_time)\n",
    "\n",
    "# Optional: Filter by video name\n",
    "video_filter = None\n",
    "if 'processed_video_name' in locals():\n",
    "    filter_video = input(f\"Search only in '{processed_video_name}'? (y/n): \").lower() == 'y'\n",
    "    if filter_video:\n",
    "        video_filter = processed_video_name\n",
    "\n",
    "# Perform search\n",
    "print(f\"\\n🔍 Searching with filters...\")\n",
    "results = engine.search(\n",
    "    query=query,\n",
    "    top_k=10,\n",
    "    similarity_threshold=0.4,  # Lower threshold for more results\n",
    "    video_filter=video_filter,\n",
    "    time_window=time_window\n",
    ")\n",
    "\n",
    "print(f\"\\n✅ Found {len(results)} results:\\n\")\n",
    "for i, result in enumerate(results, 1):\n",
    "    print(f\"{i}. {result['time_formatted']} - {result['caption'][:60]}... ({result['similarity_score']:.1%})\")"
   ]
  },
  {
   "cell_type": "markdown",
   "metadata": {
    "id": "step9"
   },
   "source": [
    "## 📊 Step 9: View Database Statistics\n",
    "\n",
    "Check the current state of your Pinecone database."
   ]
  },
  {
   "cell_type": "code",
   "execution_count": null,
   "metadata": {
    "id": "stats"
   },
   "outputs": [],
   "source": [
    "import json\n",
    "\n",
    "stats = engine.get_index_stats()\n",
    "\n",
    "print(\"📊 PINECONE DATABASE STATISTICS\")\n",
    "print(\"=\" * 60)\n",
    "print(f\"\\n🗄️ Index Information:\")\n",
    "print(f\"   Name: capstone\")\n",
    "print(f\"   Total vectors: {stats.get('total_vectors', 0):,}\")\n",
    "print(f\"   Dimension: {stats.get('dimension', 1024)}\")\n",
    "print(f\"   Capacity mode: Serverless\")\n",
    "print(f\"   Cloud: AWS\")\n",
    "print(f\"   Region: us-east-1\")\n",
    "\n",
    "# Estimate storage\n",
    "total_vectors = stats.get('total_vectors', 0)\n",
    "estimated_mb = (total_vectors * 1024 * 4) / (1024 * 1024)  # 4 bytes per dimension\n",
    "print(f\"\\n💾 Estimated storage: ~{estimated_mb:.1f} MB\")\n",
    "\n",
    "if 'namespaces' in stats:\n",
    "    print(f\"\\n📁 Namespaces:\")\n",
    "    print(json.dumps(stats['namespaces'], indent=2))"
   ]
  },
  {
   "cell_type": "markdown",
   "metadata": {
    "id": "step10"
   },
   "source": [
    "## 🧹 Step 10: Cleanup (Optional)\n",
    "\n",
    "**⚠️ Warning**: This will delete ALL vectors from your Pinecone index!\n",
    "\n",
    "Only run this if you want to start fresh."
   ]
  },
  {
   "cell_type": "code",
   "execution_count": null,
   "metadata": {
    "id": "cleanup"
   },
   "outputs": [],
   "source": [
    "# Uncomment to enable cleanup\n",
    "# confirm = input(\"⚠️ Are you sure you want to delete ALL vectors? Type 'YES' to confirm: \")\n",
    "# \n",
    "# if confirm == \"YES\":\n",
    "#     print(\"🧹 Clearing database...\")\n",
    "#     engine.clear_index()\n",
    "#     print(\"✅ Database cleared!\")\n",
    "# else:\n",
    "#     print(\"❌ Cleanup cancelled\")\n",
    "\n",
    "print(\"⚠️ Cleanup is commented out for safety.\")\n",
    "print(\"Uncomment the code above if you need to clear the database.\")"
   ]
  },
  {
   "cell_type": "markdown",
   "metadata": {
    "id": "step11"
   },
   "source": [
    "## 🎨 Step 11: Interactive Search Interface\n",
    "\n",
    "Run this for a simple interactive search interface!"
   ]
  },
  {
   "cell_type": "code",
   "execution_count": null,
   "metadata": {
    "id": "interactive"
   },
   "outputs": [],
   "source": [
    "print(\"🎯 INTERACTIVE VIDEO SEARCH\")\n",
    "print(\"=\" * 60)\n",
    "print(\"Enter your search queries (type 'quit' to exit)\\n\")\n",
    "\n",
    "while True:\n",
    "    query = input(\"\\n🔍 Search: \").strip()\n",
    "    \n",
    "    if query.lower() in ['quit', 'exit', 'q']:\n",
    "        print(\"\\n👋 Goodbye!\")\n",
    "        break\n",
    "    \n",
    "    if not query:\n",
    "        continue\n",
    "    \n",
    "    results = engine.search(query, top_k=5)\n",
    "    \n",
    "    if results:\n",
    "        print(f\"\\n✅ Found {len(results)} results:\")\n",
    "        for i, result in enumerate(results, 1):\n",
    "            score_emoji = \"🟢\" if result['similarity_score'] > 0.7 else \"🟡\" if result['similarity_score'] > 0.5 else \"🟠\"\n",
    "            print(f\"\\n{i}. {score_emoji} {result['time_formatted']} ({result['similarity_score']:.0%})\")\n",
    "            print(f\"   {result['caption']}\")\n",
    "    else:\n",
    "        print(\"\\n❌ No results found. Try a different query.\")"
   ]
  },
  {
   "cell_type": "markdown",
   "metadata": {
    "id": "footer"
   },
   "source": [
    "---\n",
    "\n",
    "## 🎉 You're All Set!\n",
    "\n",
    "### What You Can Do Now:\n",
    "1. ✅ Process more videos (repeat Step 4-5)\n",
    "2. ✅ Search across all processed videos\n",
    "3. ✅ Experiment with different queries\n",
    "4. ✅ Adjust search parameters\n",
    "\n",
    "### Tips for Best Results:\n",
    "- Use descriptive queries (\"person with red backpack\" vs \"person\")\n",
    "- Try different phrasings if you don't get results\n",
    "- Lower the similarity threshold for more results\n",
    "- Process multiple videos to build a searchable library\n",
    "\n",
    "### Performance Notes:\n",
    "- **GPU (T4)**: ~2-3 min per minute of video\n",
    "- **CPU**: ~8-10 min per minute of video\n",
    "- **Search**: <1 second per query\n",
    "\n",
    "---\n",
    "\n",
    "## 📚 Resources\n",
    "- **GitHub Repo**: https://github.com/pranavacchu/capstone-BLIP.git\n",
    "- **Pinecone Dashboard**: https://app.pinecone.io\n",
    "- **BLIP Model**: Salesforce Research\n",
    "\n",
    "---\n",
    "\n",
    "**Made with ❤️ for video content search**"
   ]
  }
 ],
 "metadata": {
  "accelerator": "GPU",
  "colab": {
   "gpuType": "T4",
   "provenance": []
  },
  "kernelspec": {
   "display_name": "Python 3",
   "name": "python3"
  },
  "language_info": {
   "name": "python"
  }
 },
 "nbformat": 4,
 "nbformat_minor": 0
}