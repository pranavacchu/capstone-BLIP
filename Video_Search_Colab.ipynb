{
  "cells": [
    {
      "cell_type": "markdown",
      "metadata": {
        "id": "header"
      },
      "source": [
        "# Video Frame Search System with BLIP & Pinecone\n",
        "\n",
        "This notebook sets up a complete video semantic search engine that:\n",
        "- Extracts frames from videos\n",
        "- Generates captions using BLIP\n",
        "- Stores embeddings in Pinecone\n",
        "- Enables natural language search\n",
        "\n",
        "---\n"
      ]
    },
    {
      "cell_type": "markdown",
      "metadata": {
        "id": "step1"
      },
      "source": [
        " ## Step 1: Setup - Clone Repository & Install Dependencies\n",
        "\n"
      ]
    },
    {
      "cell_type": "code",
      "execution_count": 55,
      "metadata": {
        "id": "setup",
        "colab": {
          "base_uri": "https://localhost:8080/"
        },
        "outputId": "3a9a0f52-3a42-4a0b-df0e-201a4403818e"
      },
      "outputs": [
        {
          "output_type": "stream",
          "name": "stdout",
          "text": [
            "Cloning into 'capstone-BLIP'...\n",
            "remote: Enumerating objects: 62, done.\u001b[K\n",
            "remote: Counting objects: 100% (62/62), done.\u001b[K\n",
            "remote: Compressing objects: 100% (46/46), done.\u001b[K\n",
            "remote: Total 62 (delta 27), reused 51 (delta 16), pack-reused 0 (from 0)\u001b[K\n",
            "Receiving objects: 100% (62/62), 94.06 KiB | 6.72 MiB/s, done.\n",
            "Resolving deltas: 100% (27/27), done.\n",
            "/content/capstone-BLIP/capstone-BLIP/capstone-BLIP/capstone-BLIP/capstone-BLIP/capstone-BLIP\n",
            "📦 Installing dependencies... This will take 3-5 minutes\n",
            "\n",
            "✅ Installation complete!\n",
            "\n",
            "🚀 GPU detected: Tesla T4\n",
            "   Memory: 15.8 GB\n"
          ]
        }
      ],
      "source": [
        "# Clone the repository\n",
        "!git clone https://github.com/pranavacchu/capstone-BLIP.git\n",
        "%cd capstone-BLIP\n",
        "\n",
        "# Install dependencies\n",
        "print(\"📦 Installing dependencies... This will take 3-5 minutes\")\n",
        "!pip install -q opencv-python-headless pillow numpy pandas tqdm python-dotenv\n",
        "!pip install -q torch torchvision transformers sentence-transformers\n",
        "!pip install -q pinecone FlagEmbedding\n",
        "\n",
        "print(\"\\n✅ Installation complete!\")\n",
        "\n",
        "# Check GPU availability\n",
        "import torch\n",
        "if torch.cuda.is_available():\n",
        "    print(f\"\\n🚀 GPU detected: {torch.cuda.get_device_name(0)}\")\n",
        "    print(f\"   Memory: {torch.cuda.get_device_properties(0).total_memory / 1e9:.1f} GB\")\n",
        "else:\n",
        "    print(\"\\n⚠️ No GPU detected. Using CPU (slower but works)\")"
      ]
    },
    {
      "cell_type": "code",
      "source": [
        "#!/usr/bin/env python3\n",
        "\"\"\"\n",
        "Hotfix script to fix known issues in the video search system\n",
        "Run this in Colab after cloning the repository\n",
        "\"\"\"\n",
        "\n",
        "print(\"🔧 Applying hotfixes...\")\n",
        "\n",
        "# Hotfix 1: Add deduplicate_embeddings method to TextEmbeddingGenerator\n",
        "print(\"   - Adding deduplicate_embeddings method...\")\n",
        "\n",
        "with open('embedding_generator.py', 'r') as f:\n",
        "    content = f.read()\n",
        "\n",
        "if 'def deduplicate_embeddings' not in content:\n",
        "    marker = '    def get_embedding_statistics'\n",
        "    if marker in content:\n",
        "        dedupe_method = '''    def deduplicate_embeddings(self,\n",
        "                              embedded_frames: List[EmbeddedFrame],\n",
        "                              similarity_threshold: float = 0.95) -> List[EmbeddedFrame]:\n",
        "        \"\"\"\n",
        "        Remove duplicate embeddings based on similarity threshold\n",
        "\n",
        "        Args:\n",
        "            embedded_frames: List of EmbeddedFrame objects\n",
        "            similarity_threshold: Minimum similarity to consider as duplicate (0.0 to 1.0)\n",
        "\n",
        "        Returns:\n",
        "            List of unique EmbeddedFrame objects\n",
        "        \"\"\"\n",
        "        if not embedded_frames:\n",
        "            return []\n",
        "\n",
        "        if len(embedded_frames) <= 1:\n",
        "            return embedded_frames\n",
        "\n",
        "        logger.info(f\"Deduplicating {len(embedded_frames)} embeddings with threshold {similarity_threshold}\")\n",
        "\n",
        "        # Convert to numpy array for efficient computation\n",
        "        embeddings = np.array([ef.embedding for ef in embedded_frames])\n",
        "\n",
        "        # Track which embeddings to keep\n",
        "        keep_mask = np.ones(len(embedded_frames), dtype=bool)\n",
        "\n",
        "        # Compare each embedding with subsequent ones\n",
        "        for i in range(len(embeddings)):\n",
        "            if not keep_mask[i]:\n",
        "                continue\n",
        "\n",
        "            # Compute similarity with all subsequent embeddings\n",
        "            for j in range(i + 1, len(embeddings)):\n",
        "                if not keep_mask[j]:\n",
        "                    continue\n",
        "\n",
        "                # Compute cosine similarity\n",
        "                if self.normalize:\n",
        "                    # If normalized, use dot product\n",
        "                    similarity = np.dot(embeddings[i], embeddings[j])\n",
        "                else:\n",
        "                    # Compute cosine similarity manually\n",
        "                    similarity = np.dot(embeddings[i], embeddings[j]) / (\n",
        "                        np.linalg.norm(embeddings[i]) * np.linalg.norm(embeddings[j])\n",
        "                    )\n",
        "\n",
        "                # Mark as duplicate if similarity exceeds threshold\n",
        "                if similarity >= similarity_threshold:\n",
        "                    keep_mask[j] = False\n",
        "\n",
        "        # Filter embeddings based on keep mask\n",
        "        unique_frames = [ef for ef, keep in zip(embedded_frames, keep_mask) if keep]\n",
        "\n",
        "        removed_count = len(embedded_frames) - len(unique_frames)\n",
        "        logger.info(f\"Removed {removed_count} duplicate embeddings, kept {len(unique_frames)} unique\")\n",
        "\n",
        "        return unique_frames\n",
        "\n",
        "'''\n",
        "        content = content.replace(marker, dedupe_method + marker)\n",
        "\n",
        "        with open('embedding_generator.py', 'w') as f:\n",
        "            f.write(content)\n",
        "        print(\"   ✓ Added deduplicate_embeddings method\")\n",
        "    else:\n",
        "        print(\"   ⚠ Could not find insertion point\")\n",
        "else:\n",
        "    print(\"   ✓ deduplicate_embeddings already exists\")\n",
        "\n",
        "# Hotfix 2: Fix Grounding DINO dtype mismatch\n",
        "print(\"   - Fixing Grounding DINO dtype mismatch...\")\n",
        "\n",
        "with open('object_detector.py', 'r') as f:\n",
        "    content = f.read()\n",
        "\n",
        "if 'model_dtype = next(self.model.parameters()).dtype' not in content:\n",
        "    old_code = '''            inputs = {k: v.to(self.device) for k, v in inputs.items()}\n",
        "\n",
        "            # Run detection\n",
        "            with torch.no_grad():\n",
        "                outputs = self.model(**inputs)'''\n",
        "\n",
        "    new_code = '''            # Ensure dtype matches model weights (fp16 on CUDA)\n",
        "            model_dtype = next(self.model.parameters()).dtype\n",
        "            casted_inputs = {}\n",
        "            for k, v in inputs.items():\n",
        "                v = v.to(self.device)\n",
        "                if hasattr(v, 'dtype') and v.dtype.is_floating_point:\n",
        "                    v = v.to(model_dtype)\n",
        "                casted_inputs[k] = v\n",
        "\n",
        "            # Run detection\n",
        "            with torch.no_grad():\n",
        "                outputs = self.model(**casted_inputs)'''\n",
        "\n",
        "    if old_code in content:\n",
        "        content = content.replace(old_code, new_code)\n",
        "        with open('object_detector.py', 'w') as f:\n",
        "            f.write(content)\n",
        "        print(\"   ✓ Fixed Grounding DINO dtype mismatch\")\n",
        "    else:\n",
        "        print(\"   ⚠ Could not find code to replace in object_detector.py\")\n",
        "else:\n",
        "    print(\"   ✓ Grounding DINO dtype fix already applied\")\n",
        "\n",
        "print(\"\\n✅ Hotfixes applied successfully!\")\n",
        "print(\"   You can now proceed with video processing\")\n"
      ],
      "metadata": {
        "colab": {
          "base_uri": "https://localhost:8080/"
        },
        "id": "TRq_cGCWMbER",
        "outputId": "a15b6714-8cea-4713-c620-db8835b3e916"
      },
      "execution_count": 56,
      "outputs": [
        {
          "output_type": "stream",
          "name": "stdout",
          "text": [
            "🔧 Applying hotfixes...\n",
            "   - Adding deduplicate_embeddings method...\n",
            "   ✓ deduplicate_embeddings already exists\n",
            "   - Fixing Grounding DINO dtype mismatch...\n",
            "   ✓ Grounding DINO dtype fix already applied\n",
            "\n",
            "✅ Hotfixes applied successfully!\n",
            "   You can now proceed with video processing\n"
          ]
        }
      ]
    },
    {
      "cell_type": "code",
      "source": [
        "# === RELOAD MODULES AFTER HOTFIX ===\n",
        "print(\"🔄 Reloading modules to apply hotfixes...\")\n",
        "import sys\n",
        "for m in [\n",
        "    'embedding_generator','object_detector','video_search_engine',\n",
        "    'caption_generator','frame_extractor','pinecone_manager','object_caption_pipeline'\n",
        "]:\n",
        "    if m in sys.modules:\n",
        "        del sys.modules[m]\n",
        "print(\"✅ Module cache cleared. Proceed to Step 2.\")"
      ],
      "metadata": {
        "colab": {
          "base_uri": "https://localhost:8080/"
        },
        "id": "XZoe_yvwNc5Y",
        "outputId": "8d68eb21-c5a7-42c4-dfb0-4a2fdaa85545"
      },
      "execution_count": 57,
      "outputs": [
        {
          "output_type": "stream",
          "name": "stdout",
          "text": [
            "🔄 Reloading modules to apply hotfixes...\n",
            "✅ Module cache cleared. Proceed to Step 2.\n"
          ]
        }
      ]
    },
    {
      "cell_type": "code",
      "source": [
        "# Install Grounding DINO dependencies\n",
        "print(\"Installing Grounding DINO and dependencies...\")\n",
        "print(\"This may take 2-3 minutes...\")\n",
        "\n",
        "import subprocess\n",
        "subprocess.run(['pip', 'install', '-q', 'timm'], check=False)\n",
        "subprocess.run(['pip', 'install', '-q', 'supervision'], check=False)\n",
        "\n",
        "print(\"\\nGrounding DINO dependencies installed!\")\n",
        "print(\"Models will be downloaded automatically from Hugging Face on first use\")"
      ],
      "metadata": {
        "id": "yeN8iRp-vG6a",
        "colab": {
          "base_uri": "https://localhost:8080/"
        },
        "outputId": "523675de-309a-46e7-cb4c-f11487d22d8e"
      },
      "execution_count": 58,
      "outputs": [
        {
          "output_type": "stream",
          "name": "stdout",
          "text": [
            "Installing Grounding DINO and dependencies...\n",
            "This may take 2-3 minutes...\n",
            "\n",
            "Grounding DINO dependencies installed!\n",
            "Models will be downloaded automatically from Hugging Face on first use\n"
          ]
        }
      ]
    },
    {
      "cell_type": "markdown",
      "metadata": {
        "id": "step2"
      },
      "source": [
        "## Step 2: Configure Pinecone API Key\n",
        "\n",
        "Enter your Pinecone credentials below:\n",
        "- **API Key**: Your Pinecone API key\n",
        "- **Index Host**: Your index URL (from Pinecone dashboard)\n",
        "\n",
        "Your current settings:\n",
        "```\n",
        "API Key: pcsk_51Fgoo_2S9NQf4CHi8LMpX7AXKv4TEHgRdXR3huZcCwBdJkr7BMvmdGHeRASrk5hkz4AH1\n",
        "Host: https://capstone-b5a0x4x.svc.aped-4627-b74a.pinecone.io\n",
        "```"
      ]
    },
    {
      "cell_type": "code",
      "execution_count": 59,
      "metadata": {
        "id": "config",
        "colab": {
          "base_uri": "https://localhost:8080/"
        },
        "outputId": "5ff47799-37ea-41ec-bf4a-ea5b2a58f0ca"
      },
      "outputs": [
        {
          "output_type": "stream",
          "name": "stdout",
          "text": [
            "✅ Configuration saved!\n"
          ]
        }
      ],
      "source": [
        "import os\n",
        "\n",
        "# Set your Pinecone credentials\n",
        "PINECONE_API_KEY = \"pcsk_51Fgoo_2S9NQf4CHi8LMpX7AXKv4TEHgRdXR3huZcCwBdJkr7BMvmdGHeRASrk5hkz4AH1\"\n",
        "PINECONE_HOST = \"https://capstone-b5a0x4x.svc.aped-4627-b74a.pinecone.io\"\n",
        "PINECONE_ENVIRONMENT = \"us-east-1\"\n",
        "\n",
        "# Write to .env file\n",
        "with open('.env', 'w') as f:\n",
        "    f.write(f\"PINECONE_API_KEY={PINECONE_API_KEY}\\n\")\n",
        "    f.write(f\"PINECONE_HOST={PINECONE_HOST}\\n\")\n",
        "    f.write(f\"PINECONE_ENVIRONMENT={PINECONE_ENVIRONMENT}\\n\")\n",
        "\n",
        "print(\"✅ Configuration saved!\")"
      ]
    },
    {
      "cell_type": "markdown",
      "metadata": {
        "id": "step3"
      },
      "source": [
        "##  Step 3: Test Connection to Pinecone\n",
        "\n"
      ]
    },
    {
      "cell_type": "code",
      "execution_count": 60,
      "metadata": {
        "id": "test_connection",
        "colab": {
          "base_uri": "https://localhost:8080/"
        },
        "outputId": "9bc362da-85b2-4895-f084-fd210d0776db"
      },
      "outputs": [
        {
          "output_type": "stream",
          "name": "stdout",
          "text": [
            "🔌 Connecting to Pinecone...\n",
            "\n",
            "✅ Successfully connected to Pinecone!\n",
            "\n",
            "📊 Database Statistics:\n",
            "   Index: capstone\n",
            "   Total vectors: 35\n",
            "   Dimension: 1024\n",
            "   Capacity: Serverless\n"
          ]
        }
      ],
      "source": [
        "from video_search_engine import VideoSearchEngine\n",
        "\n",
        "print(\"🔌 Connecting to Pinecone...\")\n",
        "engine = VideoSearchEngine()\n",
        "\n",
        "# Get database stats\n",
        "stats = engine.get_index_stats()\n",
        "\n",
        "print(\"\\n✅ Successfully connected to Pinecone!\")\n",
        "print(f\"\\n📊 Database Statistics:\")\n",
        "print(f\"   Index: capstone\")\n",
        "print(f\"   Total vectors: {stats.get('total_vectors', 0):,}\")\n",
        "print(f\"   Dimension: {stats.get('dimension', 1024)}\")\n",
        "print(f\"   Capacity: Serverless\")"
      ]
    },
    {
      "cell_type": "markdown",
      "metadata": {
        "id": "step4"
      },
      "source": [
        "## Step 4: Upload a Video File\n",
        "\n"
      ]
    },
    {
      "cell_type": "code",
      "execution_count": 61,
      "metadata": {
        "id": "upload_video",
        "colab": {
          "base_uri": "https://localhost:8080/"
        },
        "outputId": "17c5006e-abba-4c0b-f90e-7403743dc8bd"
      },
      "outputs": [
        {
          "output_type": "stream",
          "name": "stdout",
          "text": [
            "📤 Choose how to get your video:\n",
            "\n",
            "1. Upload from computer (recommended for small files < 100MB)\n",
            "2. Download from URL (direct video file)\n",
            "3. Download from YouTube URL\n",
            "\n",
            "Enter choice (1/2/3): 3\n",
            "\n",
            "Enter YouTube URL (video or shorts): https://www.youtube.com/shorts/QhlroYnundk\n",
            "⬇️ Downloading from YouTube...\n",
            "   Installing yt-dlp (if needed)...\n",
            "   Fetching video info...\n",
            "✅ Downloaded successfully: youtube_video.mp4\n",
            "\n",
            "📹 Video ready: youtube_video.mp4 (2.2 MB)\n",
            "   Duration: 7.6 seconds\n",
            "   FPS: 30.0\n",
            "   Total frames: 228\n"
          ]
        }
      ],
      "source": [
        "from google.colab import files\n",
        "import os\n",
        "import subprocess\n",
        "from urllib.parse import urlparse, parse_qs\n",
        "\n",
        "print(\"📤 Choose how to get your video:\\n\")\n",
        "print(\"1. Upload from computer (recommended for small files < 100MB)\")\n",
        "print(\"2. Download from URL (direct video file)\")\n",
        "print(\"3. Download from YouTube URL\\n\")\n",
        "\n",
        "choice = input(\"Enter choice (1/2/3): \").strip()\n",
        "video_path = None\n",
        "\n",
        "if choice == \"1\":\n",
        "    print(\"\\n📁 Please select your video file...\")\n",
        "    uploaded = files.upload()\n",
        "    if uploaded:\n",
        "        video_path = list(uploaded.keys())[0]\n",
        "        print(f\"✅ Uploaded: {video_path}\")\n",
        "    else:\n",
        "        print(\"❌ No file uploaded\")\n",
        "\n",
        "elif choice == \"2\":\n",
        "    video_url = input(\"\\nEnter video URL (direct link to .mp4, .avi, etc.): \").strip()\n",
        "\n",
        "    if not video_url:\n",
        "        print(\"❌ No URL provided\")\n",
        "    else:\n",
        "        # Extract filename from URL or use default\n",
        "        parsed_url = urlparse(video_url)\n",
        "        url_filename = os.path.basename(parsed_url.path)\n",
        "\n",
        "        # Use URL filename if it has an extension, otherwise use default\n",
        "        if url_filename and '.' in url_filename:\n",
        "            video_filename = url_filename\n",
        "        else:\n",
        "            video_filename = \"downloaded_video.mp4\"\n",
        "\n",
        "        print(f\"⬇️ Downloading from URL...\")\n",
        "        print(f\"   Target file: {video_filename}\")\n",
        "\n",
        "        try:\n",
        "            # Use subprocess for better control\n",
        "            result = subprocess.run(\n",
        "                ['wget', '-O', video_filename, video_url, '--no-check-certificate', '-q', '--show-progress'],\n",
        "                capture_output=True,\n",
        "                text=True,\n",
        "                timeout=300\n",
        "            )\n",
        "\n",
        "            if result.returncode == 0 and os.path.exists(video_filename):\n",
        "                if os.path.getsize(video_filename) > 0:\n",
        "                    video_path = video_filename\n",
        "                    print(f\"✅ Downloaded successfully: {video_filename}\")\n",
        "                else:\n",
        "                    print(f\"❌ Download failed: File is empty\")\n",
        "                    if os.path.exists(video_filename):\n",
        "                        os.remove(video_filename)\n",
        "            else:\n",
        "                print(f\"❌ Download failed: wget returned code {result.returncode}\")\n",
        "                # Try alternative method with curl\n",
        "                print(\"\\n🔄 Trying alternative download method (curl)...\")\n",
        "                result2 = subprocess.run(\n",
        "                    ['curl', '-L', '-o', video_filename, video_url, '--silent', '--show-error'],\n",
        "                    capture_output=True,\n",
        "                    text=True,\n",
        "                    timeout=300\n",
        "                )\n",
        "\n",
        "                if result2.returncode == 0 and os.path.exists(video_filename) and os.path.getsize(video_filename) > 0:\n",
        "                    video_path = video_filename\n",
        "                    print(f\"✅ Downloaded successfully with curl: {video_filename}\")\n",
        "                else:\n",
        "                    print(f\"❌ Alternative download also failed\")\n",
        "                    print(\"   Please check if the URL is accessible and try again\")\n",
        "\n",
        "        except subprocess.TimeoutExpired:\n",
        "            print(\"❌ Download timed out (>5 minutes). File may be too large.\")\n",
        "        except Exception as e:\n",
        "            print(f\"❌ Download error: {e}\")\n",
        "\n",
        "elif choice == \"3\":\n",
        "    youtube_url = input(\"\\nEnter YouTube URL (video or shorts): \").strip()\n",
        "\n",
        "    if not youtube_url:\n",
        "        print(\"❌ No URL provided\")\n",
        "    else:\n",
        "        print(\"⬇️ Downloading from YouTube...\")\n",
        "        print(\"   Installing yt-dlp (if needed)...\")\n",
        "\n",
        "        # Install yt-dlp if not present\n",
        "        subprocess.run(['pip', 'install', '-q', 'yt-dlp'], check=False)\n",
        "\n",
        "        video_filename = \"youtube_video.mp4\"\n",
        "\n",
        "        try:\n",
        "            print(f\"   Fetching video info...\")\n",
        "\n",
        "            # Download with yt-dlp\n",
        "            result = subprocess.run(\n",
        "                [\n",
        "                    'yt-dlp',\n",
        "                    '-f', 'best[ext=mp4]/best',  # Best quality MP4\n",
        "                    '-o', video_filename,\n",
        "                    '--no-playlist',\n",
        "                    '--quiet',\n",
        "                    '--progress',\n",
        "                    youtube_url\n",
        "                ],\n",
        "                capture_output=True,\n",
        "                text=True,\n",
        "                timeout=600  # 10 minute timeout for YouTube\n",
        "            )\n",
        "\n",
        "            if result.returncode == 0 and os.path.exists(video_filename):\n",
        "                if os.path.getsize(video_filename) > 0:\n",
        "                    video_path = video_filename\n",
        "                    print(f\"✅ Downloaded successfully: {video_filename}\")\n",
        "                else:\n",
        "                    print(f\"❌ Download failed: File is empty\")\n",
        "                    if os.path.exists(video_filename):\n",
        "                        os.remove(video_filename)\n",
        "            else:\n",
        "                print(f\"❌ YouTube download failed\")\n",
        "                if result.stderr:\n",
        "                    print(f\"   Error: {result.stderr[:300]}\")\n",
        "                print(\"\\n💡 Troubleshooting tips:\")\n",
        "                print(\"   - Make sure the video is public and not age-restricted\")\n",
        "                print(\"   - Try using Option 1 to upload the video manually\")\n",
        "                print(\"   - Check if the URL is correct\")\n",
        "\n",
        "        except subprocess.TimeoutExpired:\n",
        "            print(\"❌ Download timed out (>10 minutes).\")\n",
        "        except Exception as e:\n",
        "            print(f\"❌ Download error: {e}\")\n",
        "\n",
        "else:\n",
        "    print(\"⚠️ Invalid choice. Please choose option 1, 2, or 3.\")\n",
        "\n",
        "# Validate the video file\n",
        "if video_path:\n",
        "    if os.path.exists(video_path):\n",
        "        file_size = os.path.getsize(video_path) / (1024*1024)  # MB\n",
        "        print(f\"\\n📹 Video ready: {video_path} ({file_size:.1f} MB)\")\n",
        "\n",
        "        # Verify it's a valid video file\n",
        "        import cv2\n",
        "        cap = cv2.VideoCapture(video_path)\n",
        "        if cap.isOpened():\n",
        "            fps = cap.get(cv2.CAP_PROP_FPS)\n",
        "            frame_count = int(cap.get(cv2.CAP_PROP_FRAME_COUNT))\n",
        "            duration = frame_count / fps if fps > 0 else 0\n",
        "            print(f\"   Duration: {duration:.1f} seconds\")\n",
        "            print(f\"   FPS: {fps:.1f}\")\n",
        "            print(f\"   Total frames: {frame_count:,}\")\n",
        "            cap.release()\n",
        "        else:\n",
        "            print(\"\\n⚠️ Warning: Unable to read video file. It may be corrupted.\")\n",
        "            print(\"   Please try a different video or URL.\")\n",
        "            video_path = None\n",
        "    else:\n",
        "        print(f\"\\n❌ Error: File not found at {video_path}\")\n",
        "        video_path = None\n",
        "\n",
        "if not video_path:\n",
        "    print(\"\\n❌ No valid video file available. Please run this cell again.\")"
      ]
    },
    {
      "cell_type": "code",
      "source": [
        "print(\"Choose your captioning method:\\n\")\n",
        "print(\"1. Standard BLIP (faster, general scene captions)\")\n",
        "print(\"2. Object Detection + BLIP (slower, object-focused)\")\n",
        "print()\n",
        "\n",
        "method_choice = input(\"Enter choice (1/2, default=1): \").strip() or \"1\"\n",
        "use_object_detection = (method_choice == \"2\")\n",
        "\n",
        "if use_object_detection:\n",
        "    print(\"\\nUsing Object Detection + BLIP pipeline\")\n",
        "    print(\"   Detects objects: bags, laptops, helmets, phones, etc.\")\n",
        "else:\n",
        "    print(\"\\nUsing Standard BLIP captioning\")"
      ],
      "metadata": {
        "id": "MwRP7HFQvYl1",
        "colab": {
          "base_uri": "https://localhost:8080/"
        },
        "outputId": "70b460eb-7c3d-4d2f-c030-a4fbd59e0710"
      },
      "execution_count": 62,
      "outputs": [
        {
          "output_type": "stream",
          "name": "stdout",
          "text": [
            "Choose your captioning method:\n",
            "\n",
            "1. Standard BLIP (faster, general scene captions)\n",
            "2. Object Detection + BLIP (slower, object-focused)\n",
            "\n",
            "Enter choice (1/2, default=1): 2\n",
            "\n",
            "Using Object Detection + BLIP pipeline\n",
            "   Detects objects: bags, laptops, helmets, phones, etc.\n"
          ]
        }
      ]
    },
    {
      "cell_type": "markdown",
      "metadata": {
        "id": "step5"
      },
      "source": [
        "## Step 5: Process the Video\n",
        "\n",
        "This will:\n",
        "1. Extract frames from the video (removing redundant frames)\n",
        "2. Generate captions using BLIP AI model\n",
        "3. Create embeddings for semantic search\n",
        "4. Upload to Pinecone database\n",
        "\n",
        "**Expected time:**\n",
        "- 1 minute video: ~2-3 minutes with GPU\n",
        "- 5 minute video: ~8-10 minutes with GPU\n",
        "- CPU mode: 3-5x slower"
      ]
    },
    {
      "cell_type": "code",
      "execution_count": 63,
      "metadata": {
        "id": "process_video",
        "colab": {
          "base_uri": "https://localhost:8080/",
          "height": 609,
          "referenced_widgets": [
            "84edf5b3a2474f219619d0b21a8ec862",
            "5470103779a1417b918e612b8ee03b41",
            "31b0fe42f71e4ac2b4614c704254c050",
            "e5feb70294e6436184e4fe39e76c67ed",
            "7f3d982647934ee2a5068cc44683e3e2",
            "21714edc164841c684fe3d6a54f13ca4",
            "02111d61dfa14fc8b8dc7f4c4b65a7dd",
            "11b3576ccf0f428f8adef06ad3f03081",
            "78acbc363fa541a0b383e7a18f40cbfb",
            "0cec611bb3114417a82b94e68ead24c6",
            "7a1df40e19d34df0bc053c6187136b1a"
          ]
        },
        "outputId": "6bf20522-485e-4f42-93b0-168c6152456b"
      },
      "outputs": [
        {
          "output_type": "stream",
          "name": "stdout",
          "text": [
            "Enter a name for this video (or press Enter for auto-name): test4\n",
            "\n",
            "🎬 Processing video: test4\n",
            "⏳ This will take a few minutes... Please wait.\n",
            "\n",
            "============================================================\n"
          ]
        },
        {
          "output_type": "stream",
          "name": "stderr",
          "text": [
            "Extracting frames: 100%|██████████| 228/228 [00:01<00:00, 142.93it/s]\n",
            "Processing frames:   0%|          | 0/5 [00:00<?, ?it/s]ERROR:object_detector:Error during object detection: mat1 and mat2 must have the same dtype, but got Float and Half\n",
            "ERROR:object_detector:Float32 retry failed: GroundingDinoProcessor.post_process_grounded_object_detection() got an unexpected keyword argument 'box_threshold'\n",
            "Processing frames:  20%|██        | 1/5 [00:01<00:04,  1.12s/it]ERROR:object_detector:Error during object detection: GroundingDinoProcessor.post_process_grounded_object_detection() got an unexpected keyword argument 'box_threshold'\n",
            "Processing frames:  40%|████      | 2/5 [00:01<00:02,  1.05it/s]ERROR:object_detector:Error during object detection: GroundingDinoProcessor.post_process_grounded_object_detection() got an unexpected keyword argument 'box_threshold'\n",
            "Processing frames:  60%|██████    | 3/5 [00:02<00:01,  1.12it/s]ERROR:object_detector:Error during object detection: GroundingDinoProcessor.post_process_grounded_object_detection() got an unexpected keyword argument 'box_threshold'\n",
            "Processing frames:  80%|████████  | 4/5 [00:03<00:00,  1.14it/s]ERROR:object_detector:Error during object detection: GroundingDinoProcessor.post_process_grounded_object_detection() got an unexpected keyword argument 'box_threshold'\n",
            "Processing frames: 100%|██████████| 5/5 [00:04<00:00,  1.11it/s]\n"
          ]
        },
        {
          "output_type": "display_data",
          "data": {
            "text/plain": [
              "Batches:   0%|          | 0/1 [00:00<?, ?it/s]"
            ],
            "application/vnd.jupyter.widget-view+json": {
              "version_major": 2,
              "version_minor": 0,
              "model_id": "84edf5b3a2474f219619d0b21a8ec862"
            }
          },
          "metadata": {}
        },
        {
          "output_type": "stream",
          "name": "stderr",
          "text": [
            "Uploading to Pinecone: 100%|██████████| 1/1 [00:00<00:00,  1.39it/s]\n"
          ]
        },
        {
          "output_type": "stream",
          "name": "stdout",
          "text": [
            "\n",
            "============================================================\n",
            "\n",
            "✅ VIDEO PROCESSING COMPLETE!\n",
            "\n",
            "📊 Processing Statistics:\n",
            "   Video name: test4\n",
            "   Frames extracted: 5\n",
            "   Frames with captions: 5\n",
            "   Captions before dedupe: 5\n",
            "   Unique embeddings: 3\n",
            "   ✅ Actually uploaded: 3\n",
            "   Processing time: 0.3 minutes\n",
            "\n",
            "   Frame reduction: 0.0%\n"
          ]
        }
      ],
      "source": [
        "import time\n",
        "from datetime import datetime\n",
        "\n",
        "if 'video_path' not in locals() or not video_path:\n",
        "    print(\"❌ Please upload a video first (run the previous cell)\")\n",
        "else:\n",
        "    # Set video name\n",
        "    video_name = input(\"Enter a name for this video (or press Enter for auto-name): \").strip()\n",
        "    if not video_name:\n",
        "        video_name = f\"video_{datetime.now().strftime('%Y%m%d_%H%M%S')}\"\n",
        "\n",
        "    print(f\"\\n🎬 Processing video: {video_name}\")\n",
        "    print(\"⏳ This will take a few minutes... Please wait.\\n\")\n",
        "    print(\"=\" * 60)\n",
        "\n",
        "    start_time = time.time()\n",
        "\n",
        "    try:\n",
        "        # Process the video\n",
        "        stats = engine.process_video(\n",
        "            video_path=video_path,\n",
        "            video_name=video_name,\n",
        "            save_frames=False,  # Set to True to save frames\n",
        "            upload_to_pinecone=True,\n",
        "            use_object_detection=use_object_detection  # ADD THIS LINE\n",
        "        )\n",
        "\n",
        "        processing_time = time.time() - start_time\n",
        "\n",
        "        print(\"\\n\" + \"=\" * 60)\n",
        "        print(\"\\n✅ VIDEO PROCESSING COMPLETE!\\n\")\n",
        "        print(f\"📊 Processing Statistics:\")\n",
        "        print(f\"   Video name: {video_name}\")\n",
        "        print(f\"   Frames extracted: {stats['total_frames_extracted']:,}\")\n",
        "        print(f\"   Frames with captions: {stats['frames_with_captions']:,}\")\n",
        "        print(f\"   Captions before dedupe: {stats.get('captions_before_dedupe', stats['frames_with_captions']):,}\")\n",
        "        print(f\"   Unique embeddings: {stats.get('embeddings_generated', 0):,}\")\n",
        "        print(f\"   ✅ Actually uploaded: {stats['embeddings_uploaded']:,}\")\n",
        "        print(f\"   Processing time: {processing_time/60:.1f} minutes\")\n",
        "        print(f\"\\n   Frame reduction: {stats.get('frame_reduction_percent', 0):.1f}%\")\n",
        "\n",
        "        # Save video_name for next steps\n",
        "        processed_video_name = video_name\n",
        "\n",
        "    except Exception as e:\n",
        "        print(f\"\\n❌ Error processing video: {e}\")\n",
        "        print(\"\\nTroubleshooting tips:\")\n",
        "        print(\"- If GPU memory error: Restart runtime and try again\")\n",
        "        print(\"- If video format error: Convert video to MP4 format\")"
      ]
    },
    {
      "cell_type": "markdown",
      "metadata": {
        "id": "step6"
      },
      "source": [
        "## Step 6: Search Your Video!\n",
        "\n",
        "Now you can search for content using natural language queries.\n",
        "\n",
        "**Example queries:**\n",
        "- \"person walking\"\n",
        "- \"black bag\"\n",
        "- \"someone talking on phone\"\n",
        "- \"car driving\"\n",
        "- \"red shirt\"\n",
        "\n",
        "The system will return timestamps where that content appears!"
      ]
    },
    {
      "cell_type": "code",
      "execution_count": 40,
      "metadata": {
        "id": "search_single",
        "colab": {
          "base_uri": "https://localhost:8080/"
        },
        "outputId": "706d4cfd-5dd2-4d83-883e-a37f958c32a4"
      },
      "outputs": [
        {
          "output_type": "stream",
          "name": "stdout",
          "text": [
            "🔍 Enter your search query: white\n",
            "\n",
            "Searching for: 'white'...\n",
            "============================================================\n",
            "\n",
            "✅ Found 5 results:\n",
            "\n",
            "1. ⏱️ Timestamp: 00:00.03\n",
            "   📝 Caption: A white tiled floor.\n",
            "   📊 Confidence: 68.4%\n",
            "   🎥 Video: test\n",
            "\n",
            "2. ⏱️ Timestamp: 00:19.55\n",
            "   📝 Caption: This is a person.\n",
            "   📊 Confidence: 61.8%\n",
            "   🎥 Video: bag_ad2\n",
            "\n",
            "3. ⏱️ Timestamp: 00:00.03\n",
            "   📝 Caption: A black and white photo of a woman in a white dress.\n",
            "   📊 Confidence: 54.6%\n",
            "   🎥 Video: bag_ad2\n",
            "\n",
            "4. ⏱️ Timestamp: 00:11.51\n",
            "   📝 Caption: The inside of a bag with a pattern on it.\n",
            "   📊 Confidence: 54.5%\n",
            "   🎥 Video: bag_ad2\n",
            "\n",
            "5. ⏱️ Timestamp: 00:15.95\n",
            "   📝 Caption: A purse with a handle.\n",
            "   📊 Confidence: 53.8%\n",
            "   🎥 Video: bag_ad2\n",
            "\n"
          ]
        }
      ],
      "source": [
        "# Single search query\n",
        "query = input(\"🔍 Enter your search query: \")\n",
        "\n",
        "print(f\"\\nSearching for: '{query}'...\")\n",
        "print(\"=\" * 60)\n",
        "\n",
        "results = engine.search(\n",
        "    query=query,\n",
        "    top_k=5,\n",
        "    similarity_threshold=0.5\n",
        ")\n",
        "\n",
        "if results:\n",
        "    print(f\"\\n✅ Found {len(results)} results:\\n\")\n",
        "\n",
        "    for i, result in enumerate(results, 1):\n",
        "        print(f\"{i}. ⏱️ Timestamp: {result['time_formatted']}\")\n",
        "        print(f\"   📝 Caption: {result['caption']}\")\n",
        "        print(f\"   📊 Confidence: {result['similarity_score']:.1%}\")\n",
        "        print(f\"   🎥 Video: {result['video_name']}\")\n",
        "        print()\n",
        "else:\n",
        "    print(\"\\n❌ No results found. Try:\")\n",
        "    print(\"   - Different search terms\")\n",
        "    print(\"   - More general queries\")\n",
        "    print(\"   - Lowering the similarity threshold\")"
      ]
    },
    {
      "cell_type": "markdown",
      "metadata": {
        "id": "step7"
      },
      "source": [
        "## Step 7: Batch Search (Multiple Queries)\n",
        "\n",
        "Search for multiple things at once!"
      ]
    },
    {
      "cell_type": "code",
      "execution_count": 41,
      "metadata": {
        "id": "batch_search",
        "colab": {
          "base_uri": "https://localhost:8080/"
        },
        "outputId": "752b0ba4-699e-407a-939d-02c21640f04c"
      },
      "outputs": [
        {
          "output_type": "stream",
          "name": "stdout",
          "text": [
            "🔍 Running batch search...\n",
            "\n",
            "============================================================\n",
            "\n",
            "📌 Query: 'person walking'\n",
            "   Found 3 results\n",
            "   └─ 00:19.55 - This is a person.... (82%)\n",
            "   └─ 00:04.80 - Two people walking in front of a large building.... (69%)\n",
            "\n",
            "📌 Query: 'someone sitting'\n",
            "   Found 3 results\n",
            "   └─ 00:19.55 - This is a person.... (84%)\n",
            "   └─ 00:16.08 - The person is holding a guitar.... (70%)\n",
            "\n",
            "📌 Query: 'black bag'\n",
            "   Found 3 results\n",
            "   └─ 00:11.51 - The inside of a bag with a pattern on it.... (75%)\n",
            "   └─ 00:15.95 - A purse with a handle.... (73%)\n",
            "\n",
            "📌 Query: 'outdoor scene'\n",
            "   Found 3 results\n",
            "   └─ 00:19.55 - This is a person.... (72%)\n",
            "   └─ 00:33.07 - A man is seen in this surveillance image from a su... (68%)\n",
            "\n",
            "📌 Query: 'person talking'\n",
            "   Found 3 results\n",
            "   └─ 00:19.55 - This is a person.... (80%)\n",
            "   └─ 00:16.08 - The person is holding a guitar.... (63%)\n",
            "\n",
            "============================================================\n"
          ]
        }
      ],
      "source": [
        "# Define multiple queries\n",
        "queries = [\n",
        "    \"person walking\",\n",
        "    \"someone sitting\",\n",
        "    \"black bag\",\n",
        "    \"outdoor scene\",\n",
        "    \"person talking\"\n",
        "]\n",
        "\n",
        "print(\"🔍 Running batch search...\\n\")\n",
        "print(\"=\" * 60)\n",
        "\n",
        "batch_results = engine.batch_search(queries, top_k=3)\n",
        "\n",
        "for query, results in batch_results.items():\n",
        "    print(f\"\\n📌 Query: '{query}'\")\n",
        "    print(f\"   Found {len(results)} results\")\n",
        "\n",
        "    if results:\n",
        "        for result in results[:2]:  # Show top 2\n",
        "            print(f\"   └─ {result['time_formatted']} - {result['caption'][:50]}... ({result['similarity_score']:.0%})\")\n",
        "    else:\n",
        "        print(\"   └─ No results\")\n",
        "\n",
        "print(\"\\n\" + \"=\" * 60)"
      ]
    },
    {
      "cell_type": "markdown",
      "metadata": {
        "id": "step8"
      },
      "source": [
        "## Step 8: Advanced Search with Filters\n",
        "\n",
        "Search with additional filters:\n",
        "- Filter by specific video\n",
        "- Search within time range\n",
        "- Adjust confidence threshold"
      ]
    },
    {
      "cell_type": "code",
      "execution_count": 42,
      "metadata": {
        "id": "advanced_search",
        "colab": {
          "base_uri": "https://localhost:8080/",
          "height": 385
        },
        "outputId": "406d5cf7-77d5-4e7e-e292-f5a92fdfd23b"
      },
      "outputs": [
        {
          "name": "stdout",
          "output_type": "stream",
          "text": [
            "Enter search query: white\n"
          ]
        },
        {
          "output_type": "error",
          "ename": "KeyboardInterrupt",
          "evalue": "Interrupted by user",
          "traceback": [
            "\u001b[0;31m---------------------------------------------------------------------------\u001b[0m",
            "\u001b[0;31mKeyboardInterrupt\u001b[0m                         Traceback (most recent call last)",
            "\u001b[0;32m/tmp/ipython-input-1533572454.py\u001b[0m in \u001b[0;36m<cell line: 0>\u001b[0;34m()\u001b[0m\n\u001b[1;32m      3\u001b[0m \u001b[0;34m\u001b[0m\u001b[0m\n\u001b[1;32m      4\u001b[0m \u001b[0;31m# Optional: Filter by time window (in seconds)\u001b[0m\u001b[0;34m\u001b[0m\u001b[0;34m\u001b[0m\u001b[0m\n\u001b[0;32m----> 5\u001b[0;31m \u001b[0muse_time_filter\u001b[0m \u001b[0;34m=\u001b[0m \u001b[0minput\u001b[0m\u001b[0;34m(\u001b[0m\u001b[0;34m\"Filter by time range? (y/n): \"\u001b[0m\u001b[0;34m)\u001b[0m\u001b[0;34m.\u001b[0m\u001b[0mlower\u001b[0m\u001b[0;34m(\u001b[0m\u001b[0;34m)\u001b[0m \u001b[0;34m==\u001b[0m \u001b[0;34m'y'\u001b[0m\u001b[0;34m\u001b[0m\u001b[0;34m\u001b[0m\u001b[0m\n\u001b[0m\u001b[1;32m      6\u001b[0m \u001b[0;34m\u001b[0m\u001b[0m\n\u001b[1;32m      7\u001b[0m \u001b[0mtime_window\u001b[0m \u001b[0;34m=\u001b[0m \u001b[0;32mNone\u001b[0m\u001b[0;34m\u001b[0m\u001b[0;34m\u001b[0m\u001b[0m\n",
            "\u001b[0;32m/usr/local/lib/python3.12/dist-packages/ipykernel/kernelbase.py\u001b[0m in \u001b[0;36mraw_input\u001b[0;34m(self, prompt)\u001b[0m\n\u001b[1;32m   1175\u001b[0m                 \u001b[0;34m\"raw_input was called, but this frontend does not support input requests.\"\u001b[0m\u001b[0;34m\u001b[0m\u001b[0;34m\u001b[0m\u001b[0m\n\u001b[1;32m   1176\u001b[0m             )\n\u001b[0;32m-> 1177\u001b[0;31m         return self._input_request(\n\u001b[0m\u001b[1;32m   1178\u001b[0m             \u001b[0mstr\u001b[0m\u001b[0;34m(\u001b[0m\u001b[0mprompt\u001b[0m\u001b[0;34m)\u001b[0m\u001b[0;34m,\u001b[0m\u001b[0;34m\u001b[0m\u001b[0;34m\u001b[0m\u001b[0m\n\u001b[1;32m   1179\u001b[0m             \u001b[0mself\u001b[0m\u001b[0;34m.\u001b[0m\u001b[0m_parent_ident\u001b[0m\u001b[0;34m[\u001b[0m\u001b[0;34m\"shell\"\u001b[0m\u001b[0;34m]\u001b[0m\u001b[0;34m,\u001b[0m\u001b[0;34m\u001b[0m\u001b[0;34m\u001b[0m\u001b[0m\n",
            "\u001b[0;32m/usr/local/lib/python3.12/dist-packages/ipykernel/kernelbase.py\u001b[0m in \u001b[0;36m_input_request\u001b[0;34m(self, prompt, ident, parent, password)\u001b[0m\n\u001b[1;32m   1217\u001b[0m             \u001b[0;32mexcept\u001b[0m \u001b[0mKeyboardInterrupt\u001b[0m\u001b[0;34m:\u001b[0m\u001b[0;34m\u001b[0m\u001b[0;34m\u001b[0m\u001b[0m\n\u001b[1;32m   1218\u001b[0m                 \u001b[0;31m# re-raise KeyboardInterrupt, to truncate traceback\u001b[0m\u001b[0;34m\u001b[0m\u001b[0;34m\u001b[0m\u001b[0m\n\u001b[0;32m-> 1219\u001b[0;31m                 \u001b[0;32mraise\u001b[0m \u001b[0mKeyboardInterrupt\u001b[0m\u001b[0;34m(\u001b[0m\u001b[0;34m\"Interrupted by user\"\u001b[0m\u001b[0;34m)\u001b[0m \u001b[0;32mfrom\u001b[0m \u001b[0;32mNone\u001b[0m\u001b[0;34m\u001b[0m\u001b[0;34m\u001b[0m\u001b[0m\n\u001b[0m\u001b[1;32m   1220\u001b[0m             \u001b[0;32mexcept\u001b[0m \u001b[0mException\u001b[0m\u001b[0;34m:\u001b[0m\u001b[0;34m\u001b[0m\u001b[0;34m\u001b[0m\u001b[0m\n\u001b[1;32m   1221\u001b[0m                 \u001b[0mself\u001b[0m\u001b[0;34m.\u001b[0m\u001b[0mlog\u001b[0m\u001b[0;34m.\u001b[0m\u001b[0mwarning\u001b[0m\u001b[0;34m(\u001b[0m\u001b[0;34m\"Invalid Message:\"\u001b[0m\u001b[0;34m,\u001b[0m \u001b[0mexc_info\u001b[0m\u001b[0;34m=\u001b[0m\u001b[0;32mTrue\u001b[0m\u001b[0;34m)\u001b[0m\u001b[0;34m\u001b[0m\u001b[0;34m\u001b[0m\u001b[0m\n",
            "\u001b[0;31mKeyboardInterrupt\u001b[0m: Interrupted by user"
          ]
        }
      ],
      "source": [
        "# Advanced search example\n",
        "query = input(\"Enter search query: \")\n",
        "\n",
        "# Optional: Filter by time window (in seconds)\n",
        "use_time_filter = input(\"Filter by time range? (y/n): \").lower() == 'y'\n",
        "\n",
        "time_window = None\n",
        "if use_time_filter:\n",
        "    start_time = float(input(\"Start time (seconds): \"))\n",
        "    end_time = float(input(\"End time (seconds): \"))\n",
        "    time_window = (start_time, end_time)\n",
        "\n",
        "# Optional: Filter by video name\n",
        "video_filter = None\n",
        "if 'processed_video_name' in locals():\n",
        "    filter_video = input(f\"Search only in '{processed_video_name}'? (y/n): \").lower() == 'y'\n",
        "    if filter_video:\n",
        "        video_filter = processed_video_name\n",
        "\n",
        "# Perform search\n",
        "print(f\"\\n🔍 Searching with filters...\")\n",
        "results = engine.search(\n",
        "    query=query,\n",
        "    top_k=10,\n",
        "    similarity_threshold=0.4,  # Lower threshold for more results\n",
        "    video_filter=video_filter,\n",
        "    time_window=time_window\n",
        ")\n",
        "\n",
        "print(f\"\\n✅ Found {len(results)} results:\\n\")\n",
        "for i, result in enumerate(results, 1):\n",
        "    print(f\"{i}. {result['time_formatted']} - {result['caption'][:60]}... ({result['similarity_score']:.1%})\")"
      ]
    },
    {
      "cell_type": "markdown",
      "metadata": {
        "id": "step11"
      },
      "source": [
        "## Step 9: Interactive Search Interface\n"
      ]
    },
    {
      "cell_type": "code",
      "execution_count": null,
      "metadata": {
        "id": "interactive"
      },
      "outputs": [],
      "source": [
        "print(\"🎯 INTERACTIVE VIDEO SEARCH\")\n",
        "print(\"=\" * 60)\n",
        "print(\"Enter your search queries (type 'quit' to exit)\\n\")\n",
        "\n",
        "while True:\n",
        "    query = input(\"\\n🔍 Search: \").strip()\n",
        "\n",
        "    if query.lower() in ['quit', 'exit', 'q']:\n",
        "        print(\"\\n👋 Goodbye!\")\n",
        "        break\n",
        "\n",
        "    if not query:\n",
        "        continue\n",
        "\n",
        "    results = engine.search(query, top_k=5)\n",
        "\n",
        "    if results:\n",
        "        print(f\"\\n✅ Found {len(results)} results:\")\n",
        "        for i, result in enumerate(results, 1):\n",
        "            score_emoji = \"🟢\" if result['similarity_score'] > 0.7 else \"🟡\" if result['similarity_score'] > 0.5 else \"🟠\"\n",
        "            print(f\"\\n{i}. {score_emoji} {result['time_formatted']} ({result['similarity_score']:.0%})\")\n",
        "            print(f\"   {result['caption']}\")\n",
        "    else:\n",
        "        print(\"\\n❌ No results found. Try a different query.\")"
      ]
    }
  ],
  "metadata": {
    "accelerator": "GPU",
    "colab": {
      "gpuType": "T4",
      "provenance": []
    },
    "kernelspec": {
      "display_name": "Python 3",
      "name": "python3"
    },
    "language_info": {
      "name": "python"
    },
    "widgets": {
      "application/vnd.jupyter.widget-state+json": {
        "84edf5b3a2474f219619d0b21a8ec862": {
          "model_module": "@jupyter-widgets/controls",
          "model_name": "HBoxModel",
          "model_module_version": "1.5.0",
          "state": {
            "_dom_classes": [],
            "_model_module": "@jupyter-widgets/controls",
            "_model_module_version": "1.5.0",
            "_model_name": "HBoxModel",
            "_view_count": null,
            "_view_module": "@jupyter-widgets/controls",
            "_view_module_version": "1.5.0",
            "_view_name": "HBoxView",
            "box_style": "",
            "children": [
              "IPY_MODEL_5470103779a1417b918e612b8ee03b41",
              "IPY_MODEL_31b0fe42f71e4ac2b4614c704254c050",
              "IPY_MODEL_e5feb70294e6436184e4fe39e76c67ed"
            ],
            "layout": "IPY_MODEL_7f3d982647934ee2a5068cc44683e3e2"
          }
        },
        "5470103779a1417b918e612b8ee03b41": {
          "model_module": "@jupyter-widgets/controls",
          "model_name": "HTMLModel",
          "model_module_version": "1.5.0",
          "state": {
            "_dom_classes": [],
            "_model_module": "@jupyter-widgets/controls",
            "_model_module_version": "1.5.0",
            "_model_name": "HTMLModel",
            "_view_count": null,
            "_view_module": "@jupyter-widgets/controls",
            "_view_module_version": "1.5.0",
            "_view_name": "HTMLView",
            "description": "",
            "description_tooltip": null,
            "layout": "IPY_MODEL_21714edc164841c684fe3d6a54f13ca4",
            "placeholder": "​",
            "style": "IPY_MODEL_02111d61dfa14fc8b8dc7f4c4b65a7dd",
            "value": "Batches: 100%"
          }
        },
        "31b0fe42f71e4ac2b4614c704254c050": {
          "model_module": "@jupyter-widgets/controls",
          "model_name": "FloatProgressModel",
          "model_module_version": "1.5.0",
          "state": {
            "_dom_classes": [],
            "_model_module": "@jupyter-widgets/controls",
            "_model_module_version": "1.5.0",
            "_model_name": "FloatProgressModel",
            "_view_count": null,
            "_view_module": "@jupyter-widgets/controls",
            "_view_module_version": "1.5.0",
            "_view_name": "ProgressView",
            "bar_style": "success",
            "description": "",
            "description_tooltip": null,
            "layout": "IPY_MODEL_11b3576ccf0f428f8adef06ad3f03081",
            "max": 1,
            "min": 0,
            "orientation": "horizontal",
            "style": "IPY_MODEL_78acbc363fa541a0b383e7a18f40cbfb",
            "value": 1
          }
        },
        "e5feb70294e6436184e4fe39e76c67ed": {
          "model_module": "@jupyter-widgets/controls",
          "model_name": "HTMLModel",
          "model_module_version": "1.5.0",
          "state": {
            "_dom_classes": [],
            "_model_module": "@jupyter-widgets/controls",
            "_model_module_version": "1.5.0",
            "_model_name": "HTMLModel",
            "_view_count": null,
            "_view_module": "@jupyter-widgets/controls",
            "_view_module_version": "1.5.0",
            "_view_name": "HTMLView",
            "description": "",
            "description_tooltip": null,
            "layout": "IPY_MODEL_0cec611bb3114417a82b94e68ead24c6",
            "placeholder": "​",
            "style": "IPY_MODEL_7a1df40e19d34df0bc053c6187136b1a",
            "value": " 1/1 [00:00&lt;00:00, 26.55it/s]"
          }
        },
        "7f3d982647934ee2a5068cc44683e3e2": {
          "model_module": "@jupyter-widgets/base",
          "model_name": "LayoutModel",
          "model_module_version": "1.2.0",
          "state": {
            "_model_module": "@jupyter-widgets/base",
            "_model_module_version": "1.2.0",
            "_model_name": "LayoutModel",
            "_view_count": null,
            "_view_module": "@jupyter-widgets/base",
            "_view_module_version": "1.2.0",
            "_view_name": "LayoutView",
            "align_content": null,
            "align_items": null,
            "align_self": null,
            "border": null,
            "bottom": null,
            "display": null,
            "flex": null,
            "flex_flow": null,
            "grid_area": null,
            "grid_auto_columns": null,
            "grid_auto_flow": null,
            "grid_auto_rows": null,
            "grid_column": null,
            "grid_gap": null,
            "grid_row": null,
            "grid_template_areas": null,
            "grid_template_columns": null,
            "grid_template_rows": null,
            "height": null,
            "justify_content": null,
            "justify_items": null,
            "left": null,
            "margin": null,
            "max_height": null,
            "max_width": null,
            "min_height": null,
            "min_width": null,
            "object_fit": null,
            "object_position": null,
            "order": null,
            "overflow": null,
            "overflow_x": null,
            "overflow_y": null,
            "padding": null,
            "right": null,
            "top": null,
            "visibility": null,
            "width": null
          }
        },
        "21714edc164841c684fe3d6a54f13ca4": {
          "model_module": "@jupyter-widgets/base",
          "model_name": "LayoutModel",
          "model_module_version": "1.2.0",
          "state": {
            "_model_module": "@jupyter-widgets/base",
            "_model_module_version": "1.2.0",
            "_model_name": "LayoutModel",
            "_view_count": null,
            "_view_module": "@jupyter-widgets/base",
            "_view_module_version": "1.2.0",
            "_view_name": "LayoutView",
            "align_content": null,
            "align_items": null,
            "align_self": null,
            "border": null,
            "bottom": null,
            "display": null,
            "flex": null,
            "flex_flow": null,
            "grid_area": null,
            "grid_auto_columns": null,
            "grid_auto_flow": null,
            "grid_auto_rows": null,
            "grid_column": null,
            "grid_gap": null,
            "grid_row": null,
            "grid_template_areas": null,
            "grid_template_columns": null,
            "grid_template_rows": null,
            "height": null,
            "justify_content": null,
            "justify_items": null,
            "left": null,
            "margin": null,
            "max_height": null,
            "max_width": null,
            "min_height": null,
            "min_width": null,
            "object_fit": null,
            "object_position": null,
            "order": null,
            "overflow": null,
            "overflow_x": null,
            "overflow_y": null,
            "padding": null,
            "right": null,
            "top": null,
            "visibility": null,
            "width": null
          }
        },
        "02111d61dfa14fc8b8dc7f4c4b65a7dd": {
          "model_module": "@jupyter-widgets/controls",
          "model_name": "DescriptionStyleModel",
          "model_module_version": "1.5.0",
          "state": {
            "_model_module": "@jupyter-widgets/controls",
            "_model_module_version": "1.5.0",
            "_model_name": "DescriptionStyleModel",
            "_view_count": null,
            "_view_module": "@jupyter-widgets/base",
            "_view_module_version": "1.2.0",
            "_view_name": "StyleView",
            "description_width": ""
          }
        },
        "11b3576ccf0f428f8adef06ad3f03081": {
          "model_module": "@jupyter-widgets/base",
          "model_name": "LayoutModel",
          "model_module_version": "1.2.0",
          "state": {
            "_model_module": "@jupyter-widgets/base",
            "_model_module_version": "1.2.0",
            "_model_name": "LayoutModel",
            "_view_count": null,
            "_view_module": "@jupyter-widgets/base",
            "_view_module_version": "1.2.0",
            "_view_name": "LayoutView",
            "align_content": null,
            "align_items": null,
            "align_self": null,
            "border": null,
            "bottom": null,
            "display": null,
            "flex": null,
            "flex_flow": null,
            "grid_area": null,
            "grid_auto_columns": null,
            "grid_auto_flow": null,
            "grid_auto_rows": null,
            "grid_column": null,
            "grid_gap": null,
            "grid_row": null,
            "grid_template_areas": null,
            "grid_template_columns": null,
            "grid_template_rows": null,
            "height": null,
            "justify_content": null,
            "justify_items": null,
            "left": null,
            "margin": null,
            "max_height": null,
            "max_width": null,
            "min_height": null,
            "min_width": null,
            "object_fit": null,
            "object_position": null,
            "order": null,
            "overflow": null,
            "overflow_x": null,
            "overflow_y": null,
            "padding": null,
            "right": null,
            "top": null,
            "visibility": null,
            "width": null
          }
        },
        "78acbc363fa541a0b383e7a18f40cbfb": {
          "model_module": "@jupyter-widgets/controls",
          "model_name": "ProgressStyleModel",
          "model_module_version": "1.5.0",
          "state": {
            "_model_module": "@jupyter-widgets/controls",
            "_model_module_version": "1.5.0",
            "_model_name": "ProgressStyleModel",
            "_view_count": null,
            "_view_module": "@jupyter-widgets/base",
            "_view_module_version": "1.2.0",
            "_view_name": "StyleView",
            "bar_color": null,
            "description_width": ""
          }
        },
        "0cec611bb3114417a82b94e68ead24c6": {
          "model_module": "@jupyter-widgets/base",
          "model_name": "LayoutModel",
          "model_module_version": "1.2.0",
          "state": {
            "_model_module": "@jupyter-widgets/base",
            "_model_module_version": "1.2.0",
            "_model_name": "LayoutModel",
            "_view_count": null,
            "_view_module": "@jupyter-widgets/base",
            "_view_module_version": "1.2.0",
            "_view_name": "LayoutView",
            "align_content": null,
            "align_items": null,
            "align_self": null,
            "border": null,
            "bottom": null,
            "display": null,
            "flex": null,
            "flex_flow": null,
            "grid_area": null,
            "grid_auto_columns": null,
            "grid_auto_flow": null,
            "grid_auto_rows": null,
            "grid_column": null,
            "grid_gap": null,
            "grid_row": null,
            "grid_template_areas": null,
            "grid_template_columns": null,
            "grid_template_rows": null,
            "height": null,
            "justify_content": null,
            "justify_items": null,
            "left": null,
            "margin": null,
            "max_height": null,
            "max_width": null,
            "min_height": null,
            "min_width": null,
            "object_fit": null,
            "object_position": null,
            "order": null,
            "overflow": null,
            "overflow_x": null,
            "overflow_y": null,
            "padding": null,
            "right": null,
            "top": null,
            "visibility": null,
            "width": null
          }
        },
        "7a1df40e19d34df0bc053c6187136b1a": {
          "model_module": "@jupyter-widgets/controls",
          "model_name": "DescriptionStyleModel",
          "model_module_version": "1.5.0",
          "state": {
            "_model_module": "@jupyter-widgets/controls",
            "_model_module_version": "1.5.0",
            "_model_name": "DescriptionStyleModel",
            "_view_count": null,
            "_view_module": "@jupyter-widgets/base",
            "_view_module_version": "1.2.0",
            "_view_name": "StyleView",
            "description_width": ""
          }
        }
      }
    }
  },
  "nbformat": 4,
  "nbformat_minor": 0
}